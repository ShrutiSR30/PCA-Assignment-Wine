{
  "nbformat": 4,
  "nbformat_minor": 0,
  "metadata": {
    "kernelspec": {
      "display_name": "Python 3",
      "language": "python",
      "name": "python3"
    },
    "language_info": {
      "codemirror_mode": {
        "name": "ipython",
        "version": 3
      },
      "file_extension": ".py",
      "mimetype": "text/x-python",
      "name": "python",
      "nbconvert_exporter": "python",
      "pygments_lexer": "ipython3",
      "version": "3.8.5"
    },
    "colab": {
      "name": "PCA Assignement Wine",
      "provenance": [],
      "collapsed_sections": [
        "opjpGqCOq1r9",
        "ZQfSRDBxq1r-",
        "NUJR22qqq1r_",
        "XWVhKQppq1sC"
      ]
    }
  },
  "cells": [
    {
      "cell_type": "markdown",
      "metadata": {
        "id": "1Gt_dmfLq1rh"
      },
      "source": [
        "# PCA Assignment on Wine dataset"
      ]
    },
    {
      "cell_type": "code",
      "metadata": {
        "colab": {
          "base_uri": "https://localhost:8080/"
        },
        "id": "ZTFDhRRFR1zQ",
        "outputId": "b9c0673e-dd42-4669-e51a-41a5afb488db"
      },
      "source": [
        "from google.colab import drive\n",
        "drive.mount('/content/drive')"
      ],
      "execution_count": 2,
      "outputs": [
        {
          "output_type": "stream",
          "name": "stdout",
          "text": [
            "Mounted at /content/drive\n"
          ]
        }
      ]
    },
    {
      "cell_type": "markdown",
      "metadata": {
        "id": "OKFovT4sq1rv"
      },
      "source": [
        "# PROBLEM STATEMENT - Perform Principal component analysis and perform clustering using first 3 principal component scores (both heirarchial and k mean clustering(scree plot or elbow curve) and obtain optimum number of clusters and check whether we have obtained same number of clusters with the original data (class column we have ignored at the begining who shows it has 3 clusters)df\n"
      ]
    },
    {
      "cell_type": "markdown",
      "metadata": {
        "id": "FZYcdMw7q1rw"
      },
      "source": [
        "# Objective:- We want to check the performance of data applying on principle component analysis(PCA)"
      ]
    },
    {
      "cell_type": "markdown",
      "metadata": {
        "id": "TMuv07sQq1rx"
      },
      "source": [
        "## Dataset - wine"
      ]
    },
    {
      "cell_type": "code",
      "metadata": {
        "id": "2xrjvSb1q1ry"
      },
      "source": [
        "#import libraries\n",
        "import pandas as pd \n",
        "import numpy as np\n",
        "from sklearn.decomposition import PCA\n",
        "import matplotlib.pyplot as plt\n",
        "from sklearn.preprocessing import scale \n",
        "import seaborn as sns"
      ],
      "execution_count": 3,
      "outputs": []
    },
    {
      "cell_type": "markdown",
      "metadata": {
        "id": "K1f3AHZ4q1rz"
      },
      "source": [
        "## Load the dataset"
      ]
    },
    {
      "cell_type": "code",
      "metadata": {
        "id": "TcL058SJq1r0"
      },
      "source": [
        "wine = pd.read_csv(\"/content/drive/MyDrive/Colab Notebooks/wine.csv\")"
      ],
      "execution_count": 5,
      "outputs": []
    },
    {
      "cell_type": "code",
      "metadata": {
        "id": "7lNwL0Acq1r1",
        "outputId": "018c14a5-2be2-42c1-c345-dce1bbde5f71"
      },
      "source": [
        "wine.head()"
      ],
      "execution_count": null,
      "outputs": [
        {
          "output_type": "execute_result",
          "data": {
            "text/html": [
              "<div>\n",
              "<style scoped>\n",
              "    .dataframe tbody tr th:only-of-type {\n",
              "        vertical-align: middle;\n",
              "    }\n",
              "\n",
              "    .dataframe tbody tr th {\n",
              "        vertical-align: top;\n",
              "    }\n",
              "\n",
              "    .dataframe thead th {\n",
              "        text-align: right;\n",
              "    }\n",
              "</style>\n",
              "<table border=\"1\" class=\"dataframe\">\n",
              "  <thead>\n",
              "    <tr style=\"text-align: right;\">\n",
              "      <th></th>\n",
              "      <th>Type</th>\n",
              "      <th>Alcohol</th>\n",
              "      <th>Malic</th>\n",
              "      <th>Ash</th>\n",
              "      <th>Alcalinity</th>\n",
              "      <th>Magnesium</th>\n",
              "      <th>Phenols</th>\n",
              "      <th>Flavanoids</th>\n",
              "      <th>Nonflavanoids</th>\n",
              "      <th>Proanthocyanins</th>\n",
              "      <th>Color</th>\n",
              "      <th>Hue</th>\n",
              "      <th>Dilution</th>\n",
              "      <th>Proline</th>\n",
              "    </tr>\n",
              "  </thead>\n",
              "  <tbody>\n",
              "    <tr>\n",
              "      <th>0</th>\n",
              "      <td>1</td>\n",
              "      <td>14.23</td>\n",
              "      <td>1.71</td>\n",
              "      <td>2.43</td>\n",
              "      <td>15.6</td>\n",
              "      <td>127</td>\n",
              "      <td>2.80</td>\n",
              "      <td>3.06</td>\n",
              "      <td>0.28</td>\n",
              "      <td>2.29</td>\n",
              "      <td>5.64</td>\n",
              "      <td>1.04</td>\n",
              "      <td>3.92</td>\n",
              "      <td>1065</td>\n",
              "    </tr>\n",
              "    <tr>\n",
              "      <th>1</th>\n",
              "      <td>1</td>\n",
              "      <td>13.20</td>\n",
              "      <td>1.78</td>\n",
              "      <td>2.14</td>\n",
              "      <td>11.2</td>\n",
              "      <td>100</td>\n",
              "      <td>2.65</td>\n",
              "      <td>2.76</td>\n",
              "      <td>0.26</td>\n",
              "      <td>1.28</td>\n",
              "      <td>4.38</td>\n",
              "      <td>1.05</td>\n",
              "      <td>3.40</td>\n",
              "      <td>1050</td>\n",
              "    </tr>\n",
              "    <tr>\n",
              "      <th>2</th>\n",
              "      <td>1</td>\n",
              "      <td>13.16</td>\n",
              "      <td>2.36</td>\n",
              "      <td>2.67</td>\n",
              "      <td>18.6</td>\n",
              "      <td>101</td>\n",
              "      <td>2.80</td>\n",
              "      <td>3.24</td>\n",
              "      <td>0.30</td>\n",
              "      <td>2.81</td>\n",
              "      <td>5.68</td>\n",
              "      <td>1.03</td>\n",
              "      <td>3.17</td>\n",
              "      <td>1185</td>\n",
              "    </tr>\n",
              "    <tr>\n",
              "      <th>3</th>\n",
              "      <td>1</td>\n",
              "      <td>14.37</td>\n",
              "      <td>1.95</td>\n",
              "      <td>2.50</td>\n",
              "      <td>16.8</td>\n",
              "      <td>113</td>\n",
              "      <td>3.85</td>\n",
              "      <td>3.49</td>\n",
              "      <td>0.24</td>\n",
              "      <td>2.18</td>\n",
              "      <td>7.80</td>\n",
              "      <td>0.86</td>\n",
              "      <td>3.45</td>\n",
              "      <td>1480</td>\n",
              "    </tr>\n",
              "    <tr>\n",
              "      <th>4</th>\n",
              "      <td>1</td>\n",
              "      <td>13.24</td>\n",
              "      <td>2.59</td>\n",
              "      <td>2.87</td>\n",
              "      <td>21.0</td>\n",
              "      <td>118</td>\n",
              "      <td>2.80</td>\n",
              "      <td>2.69</td>\n",
              "      <td>0.39</td>\n",
              "      <td>1.82</td>\n",
              "      <td>4.32</td>\n",
              "      <td>1.04</td>\n",
              "      <td>2.93</td>\n",
              "      <td>735</td>\n",
              "    </tr>\n",
              "  </tbody>\n",
              "</table>\n",
              "</div>"
            ],
            "text/plain": [
              "   Type  Alcohol  Malic   Ash  Alcalinity  Magnesium  Phenols  Flavanoids  \\\n",
              "0     1    14.23   1.71  2.43        15.6        127     2.80        3.06   \n",
              "1     1    13.20   1.78  2.14        11.2        100     2.65        2.76   \n",
              "2     1    13.16   2.36  2.67        18.6        101     2.80        3.24   \n",
              "3     1    14.37   1.95  2.50        16.8        113     3.85        3.49   \n",
              "4     1    13.24   2.59  2.87        21.0        118     2.80        2.69   \n",
              "\n",
              "   Nonflavanoids  Proanthocyanins  Color   Hue  Dilution  Proline  \n",
              "0           0.28             2.29   5.64  1.04      3.92     1065  \n",
              "1           0.26             1.28   4.38  1.05      3.40     1050  \n",
              "2           0.30             2.81   5.68  1.03      3.17     1185  \n",
              "3           0.24             2.18   7.80  0.86      3.45     1480  \n",
              "4           0.39             1.82   4.32  1.04      2.93      735  "
            ]
          },
          "metadata": {
            "tags": []
          },
          "execution_count": 3
        }
      ]
    },
    {
      "cell_type": "code",
      "metadata": {
        "id": "Ufj3CfE-q1r3",
        "colab": {
          "base_uri": "https://localhost:8080/"
        },
        "outputId": "f07e035c-f987-4227-e1cb-82b489358efd"
      },
      "source": [
        "# Checking the no of rows and columns of data set\n",
        "wine.shape"
      ],
      "execution_count": 6,
      "outputs": [
        {
          "output_type": "execute_result",
          "data": {
            "text/plain": [
              "(178, 14)"
            ]
          },
          "metadata": {},
          "execution_count": 6
        }
      ]
    },
    {
      "cell_type": "markdown",
      "metadata": {
        "id": "trIijykUq1r4"
      },
      "source": [
        "## Drop the \"Type\" column beacuse it coontains 3 types of data point for all data which makes the total dataset into 3 cluster from the beginning"
      ]
    },
    {
      "cell_type": "code",
      "metadata": {
        "id": "hQsw_Mv3q1r5"
      },
      "source": [
        "wine1 = wine.drop(\"Type\",axis=1)"
      ],
      "execution_count": 7,
      "outputs": []
    },
    {
      "cell_type": "code",
      "metadata": {
        "id": "L5xEhIpvq1r5",
        "colab": {
          "base_uri": "https://localhost:8080/",
          "height": 419
        },
        "outputId": "97bf6c25-8e28-4242-aec6-5ff102b75d59"
      },
      "source": [
        "#Our new dataset for performing analysis\n",
        "wine1"
      ],
      "execution_count": 8,
      "outputs": [
        {
          "output_type": "execute_result",
          "data": {
            "text/html": [
              "<div>\n",
              "<style scoped>\n",
              "    .dataframe tbody tr th:only-of-type {\n",
              "        vertical-align: middle;\n",
              "    }\n",
              "\n",
              "    .dataframe tbody tr th {\n",
              "        vertical-align: top;\n",
              "    }\n",
              "\n",
              "    .dataframe thead th {\n",
              "        text-align: right;\n",
              "    }\n",
              "</style>\n",
              "<table border=\"1\" class=\"dataframe\">\n",
              "  <thead>\n",
              "    <tr style=\"text-align: right;\">\n",
              "      <th></th>\n",
              "      <th>Alcohol</th>\n",
              "      <th>Malic</th>\n",
              "      <th>Ash</th>\n",
              "      <th>Alcalinity</th>\n",
              "      <th>Magnesium</th>\n",
              "      <th>Phenols</th>\n",
              "      <th>Flavanoids</th>\n",
              "      <th>Nonflavanoids</th>\n",
              "      <th>Proanthocyanins</th>\n",
              "      <th>Color</th>\n",
              "      <th>Hue</th>\n",
              "      <th>Dilution</th>\n",
              "      <th>Proline</th>\n",
              "    </tr>\n",
              "  </thead>\n",
              "  <tbody>\n",
              "    <tr>\n",
              "      <th>0</th>\n",
              "      <td>14.23</td>\n",
              "      <td>1.71</td>\n",
              "      <td>2.43</td>\n",
              "      <td>15.6</td>\n",
              "      <td>127</td>\n",
              "      <td>2.80</td>\n",
              "      <td>3.06</td>\n",
              "      <td>0.28</td>\n",
              "      <td>2.29</td>\n",
              "      <td>5.64</td>\n",
              "      <td>1.04</td>\n",
              "      <td>3.92</td>\n",
              "      <td>1065</td>\n",
              "    </tr>\n",
              "    <tr>\n",
              "      <th>1</th>\n",
              "      <td>13.20</td>\n",
              "      <td>1.78</td>\n",
              "      <td>2.14</td>\n",
              "      <td>11.2</td>\n",
              "      <td>100</td>\n",
              "      <td>2.65</td>\n",
              "      <td>2.76</td>\n",
              "      <td>0.26</td>\n",
              "      <td>1.28</td>\n",
              "      <td>4.38</td>\n",
              "      <td>1.05</td>\n",
              "      <td>3.40</td>\n",
              "      <td>1050</td>\n",
              "    </tr>\n",
              "    <tr>\n",
              "      <th>2</th>\n",
              "      <td>13.16</td>\n",
              "      <td>2.36</td>\n",
              "      <td>2.67</td>\n",
              "      <td>18.6</td>\n",
              "      <td>101</td>\n",
              "      <td>2.80</td>\n",
              "      <td>3.24</td>\n",
              "      <td>0.30</td>\n",
              "      <td>2.81</td>\n",
              "      <td>5.68</td>\n",
              "      <td>1.03</td>\n",
              "      <td>3.17</td>\n",
              "      <td>1185</td>\n",
              "    </tr>\n",
              "    <tr>\n",
              "      <th>3</th>\n",
              "      <td>14.37</td>\n",
              "      <td>1.95</td>\n",
              "      <td>2.50</td>\n",
              "      <td>16.8</td>\n",
              "      <td>113</td>\n",
              "      <td>3.85</td>\n",
              "      <td>3.49</td>\n",
              "      <td>0.24</td>\n",
              "      <td>2.18</td>\n",
              "      <td>7.80</td>\n",
              "      <td>0.86</td>\n",
              "      <td>3.45</td>\n",
              "      <td>1480</td>\n",
              "    </tr>\n",
              "    <tr>\n",
              "      <th>4</th>\n",
              "      <td>13.24</td>\n",
              "      <td>2.59</td>\n",
              "      <td>2.87</td>\n",
              "      <td>21.0</td>\n",
              "      <td>118</td>\n",
              "      <td>2.80</td>\n",
              "      <td>2.69</td>\n",
              "      <td>0.39</td>\n",
              "      <td>1.82</td>\n",
              "      <td>4.32</td>\n",
              "      <td>1.04</td>\n",
              "      <td>2.93</td>\n",
              "      <td>735</td>\n",
              "    </tr>\n",
              "    <tr>\n",
              "      <th>...</th>\n",
              "      <td>...</td>\n",
              "      <td>...</td>\n",
              "      <td>...</td>\n",
              "      <td>...</td>\n",
              "      <td>...</td>\n",
              "      <td>...</td>\n",
              "      <td>...</td>\n",
              "      <td>...</td>\n",
              "      <td>...</td>\n",
              "      <td>...</td>\n",
              "      <td>...</td>\n",
              "      <td>...</td>\n",
              "      <td>...</td>\n",
              "    </tr>\n",
              "    <tr>\n",
              "      <th>173</th>\n",
              "      <td>13.71</td>\n",
              "      <td>5.65</td>\n",
              "      <td>2.45</td>\n",
              "      <td>20.5</td>\n",
              "      <td>95</td>\n",
              "      <td>1.68</td>\n",
              "      <td>0.61</td>\n",
              "      <td>0.52</td>\n",
              "      <td>1.06</td>\n",
              "      <td>7.70</td>\n",
              "      <td>0.64</td>\n",
              "      <td>1.74</td>\n",
              "      <td>740</td>\n",
              "    </tr>\n",
              "    <tr>\n",
              "      <th>174</th>\n",
              "      <td>13.40</td>\n",
              "      <td>3.91</td>\n",
              "      <td>2.48</td>\n",
              "      <td>23.0</td>\n",
              "      <td>102</td>\n",
              "      <td>1.80</td>\n",
              "      <td>0.75</td>\n",
              "      <td>0.43</td>\n",
              "      <td>1.41</td>\n",
              "      <td>7.30</td>\n",
              "      <td>0.70</td>\n",
              "      <td>1.56</td>\n",
              "      <td>750</td>\n",
              "    </tr>\n",
              "    <tr>\n",
              "      <th>175</th>\n",
              "      <td>13.27</td>\n",
              "      <td>4.28</td>\n",
              "      <td>2.26</td>\n",
              "      <td>20.0</td>\n",
              "      <td>120</td>\n",
              "      <td>1.59</td>\n",
              "      <td>0.69</td>\n",
              "      <td>0.43</td>\n",
              "      <td>1.35</td>\n",
              "      <td>10.20</td>\n",
              "      <td>0.59</td>\n",
              "      <td>1.56</td>\n",
              "      <td>835</td>\n",
              "    </tr>\n",
              "    <tr>\n",
              "      <th>176</th>\n",
              "      <td>13.17</td>\n",
              "      <td>2.59</td>\n",
              "      <td>2.37</td>\n",
              "      <td>20.0</td>\n",
              "      <td>120</td>\n",
              "      <td>1.65</td>\n",
              "      <td>0.68</td>\n",
              "      <td>0.53</td>\n",
              "      <td>1.46</td>\n",
              "      <td>9.30</td>\n",
              "      <td>0.60</td>\n",
              "      <td>1.62</td>\n",
              "      <td>840</td>\n",
              "    </tr>\n",
              "    <tr>\n",
              "      <th>177</th>\n",
              "      <td>14.13</td>\n",
              "      <td>4.10</td>\n",
              "      <td>2.74</td>\n",
              "      <td>24.5</td>\n",
              "      <td>96</td>\n",
              "      <td>2.05</td>\n",
              "      <td>0.76</td>\n",
              "      <td>0.56</td>\n",
              "      <td>1.35</td>\n",
              "      <td>9.20</td>\n",
              "      <td>0.61</td>\n",
              "      <td>1.60</td>\n",
              "      <td>560</td>\n",
              "    </tr>\n",
              "  </tbody>\n",
              "</table>\n",
              "<p>178 rows × 13 columns</p>\n",
              "</div>"
            ],
            "text/plain": [
              "     Alcohol  Malic   Ash  Alcalinity  ...  Color   Hue  Dilution  Proline\n",
              "0      14.23   1.71  2.43        15.6  ...   5.64  1.04      3.92     1065\n",
              "1      13.20   1.78  2.14        11.2  ...   4.38  1.05      3.40     1050\n",
              "2      13.16   2.36  2.67        18.6  ...   5.68  1.03      3.17     1185\n",
              "3      14.37   1.95  2.50        16.8  ...   7.80  0.86      3.45     1480\n",
              "4      13.24   2.59  2.87        21.0  ...   4.32  1.04      2.93      735\n",
              "..       ...    ...   ...         ...  ...    ...   ...       ...      ...\n",
              "173    13.71   5.65  2.45        20.5  ...   7.70  0.64      1.74      740\n",
              "174    13.40   3.91  2.48        23.0  ...   7.30  0.70      1.56      750\n",
              "175    13.27   4.28  2.26        20.0  ...  10.20  0.59      1.56      835\n",
              "176    13.17   2.59  2.37        20.0  ...   9.30  0.60      1.62      840\n",
              "177    14.13   4.10  2.74        24.5  ...   9.20  0.61      1.60      560\n",
              "\n",
              "[178 rows x 13 columns]"
            ]
          },
          "metadata": {},
          "execution_count": 8
        }
      ]
    },
    {
      "cell_type": "code",
      "metadata": {
        "id": "rNFQHUUzq1r6",
        "colab": {
          "base_uri": "https://localhost:8080/"
        },
        "outputId": "15f0aecf-a68a-4741-e854-cd59ecba8668"
      },
      "source": [
        "# Checking the no of rows and columns of new data set\n",
        "wine1.shape"
      ],
      "execution_count": 9,
      "outputs": [
        {
          "output_type": "execute_result",
          "data": {
            "text/plain": [
              "(178, 13)"
            ]
          },
          "metadata": {},
          "execution_count": 9
        }
      ]
    },
    {
      "cell_type": "code",
      "metadata": {
        "id": "5kYq4C75q1r7",
        "colab": {
          "base_uri": "https://localhost:8080/",
          "height": 317
        },
        "outputId": "b3f747f7-c250-4f35-a89e-43de6a4d5d7f"
      },
      "source": [
        "# Cheking the min/max and spread of the dataset\n",
        "wine1.describe()"
      ],
      "execution_count": 10,
      "outputs": [
        {
          "output_type": "execute_result",
          "data": {
            "text/html": [
              "<div>\n",
              "<style scoped>\n",
              "    .dataframe tbody tr th:only-of-type {\n",
              "        vertical-align: middle;\n",
              "    }\n",
              "\n",
              "    .dataframe tbody tr th {\n",
              "        vertical-align: top;\n",
              "    }\n",
              "\n",
              "    .dataframe thead th {\n",
              "        text-align: right;\n",
              "    }\n",
              "</style>\n",
              "<table border=\"1\" class=\"dataframe\">\n",
              "  <thead>\n",
              "    <tr style=\"text-align: right;\">\n",
              "      <th></th>\n",
              "      <th>Alcohol</th>\n",
              "      <th>Malic</th>\n",
              "      <th>Ash</th>\n",
              "      <th>Alcalinity</th>\n",
              "      <th>Magnesium</th>\n",
              "      <th>Phenols</th>\n",
              "      <th>Flavanoids</th>\n",
              "      <th>Nonflavanoids</th>\n",
              "      <th>Proanthocyanins</th>\n",
              "      <th>Color</th>\n",
              "      <th>Hue</th>\n",
              "      <th>Dilution</th>\n",
              "      <th>Proline</th>\n",
              "    </tr>\n",
              "  </thead>\n",
              "  <tbody>\n",
              "    <tr>\n",
              "      <th>count</th>\n",
              "      <td>178.000000</td>\n",
              "      <td>178.000000</td>\n",
              "      <td>178.000000</td>\n",
              "      <td>178.000000</td>\n",
              "      <td>178.000000</td>\n",
              "      <td>178.000000</td>\n",
              "      <td>178.000000</td>\n",
              "      <td>178.000000</td>\n",
              "      <td>178.000000</td>\n",
              "      <td>178.000000</td>\n",
              "      <td>178.000000</td>\n",
              "      <td>178.000000</td>\n",
              "      <td>178.000000</td>\n",
              "    </tr>\n",
              "    <tr>\n",
              "      <th>mean</th>\n",
              "      <td>13.000618</td>\n",
              "      <td>2.336348</td>\n",
              "      <td>2.366517</td>\n",
              "      <td>19.494944</td>\n",
              "      <td>99.741573</td>\n",
              "      <td>2.295112</td>\n",
              "      <td>2.029270</td>\n",
              "      <td>0.361854</td>\n",
              "      <td>1.590899</td>\n",
              "      <td>5.058090</td>\n",
              "      <td>0.957449</td>\n",
              "      <td>2.611685</td>\n",
              "      <td>746.893258</td>\n",
              "    </tr>\n",
              "    <tr>\n",
              "      <th>std</th>\n",
              "      <td>0.811827</td>\n",
              "      <td>1.117146</td>\n",
              "      <td>0.274344</td>\n",
              "      <td>3.339564</td>\n",
              "      <td>14.282484</td>\n",
              "      <td>0.625851</td>\n",
              "      <td>0.998859</td>\n",
              "      <td>0.124453</td>\n",
              "      <td>0.572359</td>\n",
              "      <td>2.318286</td>\n",
              "      <td>0.228572</td>\n",
              "      <td>0.709990</td>\n",
              "      <td>314.907474</td>\n",
              "    </tr>\n",
              "    <tr>\n",
              "      <th>min</th>\n",
              "      <td>11.030000</td>\n",
              "      <td>0.740000</td>\n",
              "      <td>1.360000</td>\n",
              "      <td>10.600000</td>\n",
              "      <td>70.000000</td>\n",
              "      <td>0.980000</td>\n",
              "      <td>0.340000</td>\n",
              "      <td>0.130000</td>\n",
              "      <td>0.410000</td>\n",
              "      <td>1.280000</td>\n",
              "      <td>0.480000</td>\n",
              "      <td>1.270000</td>\n",
              "      <td>278.000000</td>\n",
              "    </tr>\n",
              "    <tr>\n",
              "      <th>25%</th>\n",
              "      <td>12.362500</td>\n",
              "      <td>1.602500</td>\n",
              "      <td>2.210000</td>\n",
              "      <td>17.200000</td>\n",
              "      <td>88.000000</td>\n",
              "      <td>1.742500</td>\n",
              "      <td>1.205000</td>\n",
              "      <td>0.270000</td>\n",
              "      <td>1.250000</td>\n",
              "      <td>3.220000</td>\n",
              "      <td>0.782500</td>\n",
              "      <td>1.937500</td>\n",
              "      <td>500.500000</td>\n",
              "    </tr>\n",
              "    <tr>\n",
              "      <th>50%</th>\n",
              "      <td>13.050000</td>\n",
              "      <td>1.865000</td>\n",
              "      <td>2.360000</td>\n",
              "      <td>19.500000</td>\n",
              "      <td>98.000000</td>\n",
              "      <td>2.355000</td>\n",
              "      <td>2.135000</td>\n",
              "      <td>0.340000</td>\n",
              "      <td>1.555000</td>\n",
              "      <td>4.690000</td>\n",
              "      <td>0.965000</td>\n",
              "      <td>2.780000</td>\n",
              "      <td>673.500000</td>\n",
              "    </tr>\n",
              "    <tr>\n",
              "      <th>75%</th>\n",
              "      <td>13.677500</td>\n",
              "      <td>3.082500</td>\n",
              "      <td>2.557500</td>\n",
              "      <td>21.500000</td>\n",
              "      <td>107.000000</td>\n",
              "      <td>2.800000</td>\n",
              "      <td>2.875000</td>\n",
              "      <td>0.437500</td>\n",
              "      <td>1.950000</td>\n",
              "      <td>6.200000</td>\n",
              "      <td>1.120000</td>\n",
              "      <td>3.170000</td>\n",
              "      <td>985.000000</td>\n",
              "    </tr>\n",
              "    <tr>\n",
              "      <th>max</th>\n",
              "      <td>14.830000</td>\n",
              "      <td>5.800000</td>\n",
              "      <td>3.230000</td>\n",
              "      <td>30.000000</td>\n",
              "      <td>162.000000</td>\n",
              "      <td>3.880000</td>\n",
              "      <td>5.080000</td>\n",
              "      <td>0.660000</td>\n",
              "      <td>3.580000</td>\n",
              "      <td>13.000000</td>\n",
              "      <td>1.710000</td>\n",
              "      <td>4.000000</td>\n",
              "      <td>1680.000000</td>\n",
              "    </tr>\n",
              "  </tbody>\n",
              "</table>\n",
              "</div>"
            ],
            "text/plain": [
              "          Alcohol       Malic         Ash  ...         Hue    Dilution      Proline\n",
              "count  178.000000  178.000000  178.000000  ...  178.000000  178.000000   178.000000\n",
              "mean    13.000618    2.336348    2.366517  ...    0.957449    2.611685   746.893258\n",
              "std      0.811827    1.117146    0.274344  ...    0.228572    0.709990   314.907474\n",
              "min     11.030000    0.740000    1.360000  ...    0.480000    1.270000   278.000000\n",
              "25%     12.362500    1.602500    2.210000  ...    0.782500    1.937500   500.500000\n",
              "50%     13.050000    1.865000    2.360000  ...    0.965000    2.780000   673.500000\n",
              "75%     13.677500    3.082500    2.557500  ...    1.120000    3.170000   985.000000\n",
              "max     14.830000    5.800000    3.230000  ...    1.710000    4.000000  1680.000000\n",
              "\n",
              "[8 rows x 13 columns]"
            ]
          },
          "metadata": {},
          "execution_count": 10
        }
      ]
    },
    {
      "cell_type": "markdown",
      "metadata": {
        "id": "IW9yr3G1q1r7"
      },
      "source": [
        "## Checking of null values & data types of variable"
      ]
    },
    {
      "cell_type": "code",
      "metadata": {
        "id": "x8LJJzg8q1r8",
        "colab": {
          "base_uri": "https://localhost:8080/"
        },
        "outputId": "05af68e7-7e8c-4d1e-a8f0-143de05f535f"
      },
      "source": [
        "wine1.info()"
      ],
      "execution_count": 11,
      "outputs": [
        {
          "output_type": "stream",
          "name": "stdout",
          "text": [
            "<class 'pandas.core.frame.DataFrame'>\n",
            "RangeIndex: 178 entries, 0 to 177\n",
            "Data columns (total 13 columns):\n",
            " #   Column           Non-Null Count  Dtype  \n",
            "---  ------           --------------  -----  \n",
            " 0   Alcohol          178 non-null    float64\n",
            " 1   Malic            178 non-null    float64\n",
            " 2   Ash              178 non-null    float64\n",
            " 3   Alcalinity       178 non-null    float64\n",
            " 4   Magnesium        178 non-null    int64  \n",
            " 5   Phenols          178 non-null    float64\n",
            " 6   Flavanoids       178 non-null    float64\n",
            " 7   Nonflavanoids    178 non-null    float64\n",
            " 8   Proanthocyanins  178 non-null    float64\n",
            " 9   Color            178 non-null    float64\n",
            " 10  Hue              178 non-null    float64\n",
            " 11  Dilution         178 non-null    float64\n",
            " 12  Proline          178 non-null    int64  \n",
            "dtypes: float64(11), int64(2)\n",
            "memory usage: 18.2 KB\n"
          ]
        }
      ]
    },
    {
      "cell_type": "markdown",
      "metadata": {
        "id": "V98zetCkq1r8"
      },
      "source": [
        "**There is no null value present inside the data and the datatypes of alltributes are appropriate.**"
      ]
    },
    {
      "cell_type": "markdown",
      "metadata": {
        "id": "opjpGqCOq1r9"
      },
      "source": [
        "## Checking of duplicate values "
      ]
    },
    {
      "cell_type": "code",
      "metadata": {
        "id": "ubipOB2Yq1r9",
        "colab": {
          "base_uri": "https://localhost:8080/",
          "height": 0
        },
        "outputId": "c2ae5063-a973-474c-c660-68576e346be5"
      },
      "source": [
        "wine1[wine1.duplicated(keep = False)]"
      ],
      "execution_count": 12,
      "outputs": [
        {
          "output_type": "execute_result",
          "data": {
            "text/html": [
              "<div>\n",
              "<style scoped>\n",
              "    .dataframe tbody tr th:only-of-type {\n",
              "        vertical-align: middle;\n",
              "    }\n",
              "\n",
              "    .dataframe tbody tr th {\n",
              "        vertical-align: top;\n",
              "    }\n",
              "\n",
              "    .dataframe thead th {\n",
              "        text-align: right;\n",
              "    }\n",
              "</style>\n",
              "<table border=\"1\" class=\"dataframe\">\n",
              "  <thead>\n",
              "    <tr style=\"text-align: right;\">\n",
              "      <th></th>\n",
              "      <th>Alcohol</th>\n",
              "      <th>Malic</th>\n",
              "      <th>Ash</th>\n",
              "      <th>Alcalinity</th>\n",
              "      <th>Magnesium</th>\n",
              "      <th>Phenols</th>\n",
              "      <th>Flavanoids</th>\n",
              "      <th>Nonflavanoids</th>\n",
              "      <th>Proanthocyanins</th>\n",
              "      <th>Color</th>\n",
              "      <th>Hue</th>\n",
              "      <th>Dilution</th>\n",
              "      <th>Proline</th>\n",
              "    </tr>\n",
              "  </thead>\n",
              "  <tbody>\n",
              "  </tbody>\n",
              "</table>\n",
              "</div>"
            ],
            "text/plain": [
              "Empty DataFrame\n",
              "Columns: [Alcohol, Malic, Ash, Alcalinity, Magnesium, Phenols, Flavanoids, Nonflavanoids, Proanthocyanins, Color, Hue, Dilution, Proline]\n",
              "Index: []"
            ]
          },
          "metadata": {},
          "execution_count": 12
        }
      ]
    },
    {
      "cell_type": "markdown",
      "metadata": {
        "id": "6Qw6c_qzq1r-"
      },
      "source": [
        "**There is no duplicate value present inside the data**"
      ]
    },
    {
      "cell_type": "code",
      "metadata": {
        "id": "sZqLk1yMt_wi"
      },
      "source": [
        ""
      ],
      "execution_count": 12,
      "outputs": []
    },
    {
      "cell_type": "markdown",
      "metadata": {
        "id": "ZQfSRDBxq1r-"
      },
      "source": [
        "## Checking of outliers"
      ]
    },
    {
      "cell_type": "code",
      "metadata": {
        "id": "kHOGO5b8q1r-",
        "colab": {
          "base_uri": "https://localhost:8080/",
          "height": 0
        },
        "outputId": "32331f36-8dea-437d-fcdc-b370ca1d6db6"
      },
      "source": [
        "fig, ax = plt.subplots(5, 3, figsize=(15,7))\n",
        "sns.boxplot(wine1.Alcohol,ax=ax[0,0])\n",
        "sns.boxplot(wine1.Malic,ax=ax[0,1])\n",
        "sns.boxplot(wine1.Ash,ax=ax[0,2])\n",
        "sns.boxplot(wine1.Alcalinity,ax=ax[1,0])\n",
        "sns.boxplot(wine1.Magnesium,ax=ax[1,1])\n",
        "sns.boxplot(wine1.Phenols,ax=ax[1,2])\n",
        "sns.boxplot(wine1.Flavanoids,ax=ax[2,0])\n",
        "sns.boxplot(wine1.Nonflavanoids,ax=ax[2,1])\n",
        "sns.boxplot(wine1.Proanthocyanins,ax=ax[2,2])\n",
        "sns.boxplot(wine1.Color,ax=ax[3,0])\n",
        "sns.boxplot(wine1.Hue,ax=ax[3,1])\n",
        "sns.boxplot(wine1.Dilution,ax=ax[3,2])\n",
        "sns.boxplot(wine1.Proline, ax=ax[4,0])\n",
        "plt.tight_layout()\n",
        "plt.show()"
      ],
      "execution_count": 13,
      "outputs": [
        {
          "output_type": "stream",
          "name": "stderr",
          "text": [
            "/usr/local/lib/python3.7/dist-packages/seaborn/_decorators.py:43: FutureWarning: Pass the following variable as a keyword arg: x. From version 0.12, the only valid positional argument will be `data`, and passing other arguments without an explicit keyword will result in an error or misinterpretation.\n",
            "  FutureWarning\n",
            "/usr/local/lib/python3.7/dist-packages/seaborn/_decorators.py:43: FutureWarning: Pass the following variable as a keyword arg: x. From version 0.12, the only valid positional argument will be `data`, and passing other arguments without an explicit keyword will result in an error or misinterpretation.\n",
            "  FutureWarning\n",
            "/usr/local/lib/python3.7/dist-packages/seaborn/_decorators.py:43: FutureWarning: Pass the following variable as a keyword arg: x. From version 0.12, the only valid positional argument will be `data`, and passing other arguments without an explicit keyword will result in an error or misinterpretation.\n",
            "  FutureWarning\n",
            "/usr/local/lib/python3.7/dist-packages/seaborn/_decorators.py:43: FutureWarning: Pass the following variable as a keyword arg: x. From version 0.12, the only valid positional argument will be `data`, and passing other arguments without an explicit keyword will result in an error or misinterpretation.\n",
            "  FutureWarning\n",
            "/usr/local/lib/python3.7/dist-packages/seaborn/_decorators.py:43: FutureWarning: Pass the following variable as a keyword arg: x. From version 0.12, the only valid positional argument will be `data`, and passing other arguments without an explicit keyword will result in an error or misinterpretation.\n",
            "  FutureWarning\n",
            "/usr/local/lib/python3.7/dist-packages/seaborn/_decorators.py:43: FutureWarning: Pass the following variable as a keyword arg: x. From version 0.12, the only valid positional argument will be `data`, and passing other arguments without an explicit keyword will result in an error or misinterpretation.\n",
            "  FutureWarning\n",
            "/usr/local/lib/python3.7/dist-packages/seaborn/_decorators.py:43: FutureWarning: Pass the following variable as a keyword arg: x. From version 0.12, the only valid positional argument will be `data`, and passing other arguments without an explicit keyword will result in an error or misinterpretation.\n",
            "  FutureWarning\n",
            "/usr/local/lib/python3.7/dist-packages/seaborn/_decorators.py:43: FutureWarning: Pass the following variable as a keyword arg: x. From version 0.12, the only valid positional argument will be `data`, and passing other arguments without an explicit keyword will result in an error or misinterpretation.\n",
            "  FutureWarning\n",
            "/usr/local/lib/python3.7/dist-packages/seaborn/_decorators.py:43: FutureWarning: Pass the following variable as a keyword arg: x. From version 0.12, the only valid positional argument will be `data`, and passing other arguments without an explicit keyword will result in an error or misinterpretation.\n",
            "  FutureWarning\n",
            "/usr/local/lib/python3.7/dist-packages/seaborn/_decorators.py:43: FutureWarning: Pass the following variable as a keyword arg: x. From version 0.12, the only valid positional argument will be `data`, and passing other arguments without an explicit keyword will result in an error or misinterpretation.\n",
            "  FutureWarning\n",
            "/usr/local/lib/python3.7/dist-packages/seaborn/_decorators.py:43: FutureWarning: Pass the following variable as a keyword arg: x. From version 0.12, the only valid positional argument will be `data`, and passing other arguments without an explicit keyword will result in an error or misinterpretation.\n",
            "  FutureWarning\n",
            "/usr/local/lib/python3.7/dist-packages/seaborn/_decorators.py:43: FutureWarning: Pass the following variable as a keyword arg: x. From version 0.12, the only valid positional argument will be `data`, and passing other arguments without an explicit keyword will result in an error or misinterpretation.\n",
            "  FutureWarning\n",
            "/usr/local/lib/python3.7/dist-packages/seaborn/_decorators.py:43: FutureWarning: Pass the following variable as a keyword arg: x. From version 0.12, the only valid positional argument will be `data`, and passing other arguments without an explicit keyword will result in an error or misinterpretation.\n",
            "  FutureWarning\n"
          ]
        },
        {
          "output_type": "display_data",
          "data": {
            "image/png": "[encoded data removed]",
            "text/plain": [
              "<Figure size 1080x504 with 15 Axes>"
            ]
          },
          "metadata": {
            "needs_background": "light"
          }
        }
      ]
    },
    {
      "cell_type": "markdown",
      "metadata": {
        "id": "NUJR22qqq1r_"
      },
      "source": [
        "## Using distplot we will check the dsitribution of the data"
      ]
    },
    {
      "cell_type": "code",
      "metadata": {
        "id": "Sh0xUPphq1sA",
        "colab": {
          "base_uri": "https://localhost:8080/",
          "height": 0
        },
        "outputId": "06d7bfb8-e455-4f0a-9fb2-11da60bb809c"
      },
      "source": [
        "#We will visualise the distribution of data\n",
        "fig, ax = plt.subplots(5, 3, figsize=(15,7))\n",
        "sns.distplot(wine1.Alcohol,ax=ax[0,0])\n",
        "sns.distplot(wine1.Malic,ax=ax[0,1])\n",
        "sns.distplot(wine1.Ash,ax=ax[0,2])\n",
        "sns.distplot(wine1.Alcalinity,ax=ax[1,0])\n",
        "sns.distplot(wine1.Magnesium,ax=ax[1,1])\n",
        "sns.distplot(wine1.Phenols,ax=ax[1,2])\n",
        "sns.distplot(wine1.Flavanoids,ax=ax[2,0])\n",
        "sns.distplot(wine1.Nonflavanoids,ax=ax[2,1])\n",
        "sns.distplot(wine1.Proanthocyanins,ax=ax[2,2])\n",
        "sns.distplot(wine1.Color,ax=ax[3,0])\n",
        "sns.distplot(wine1.Hue,ax=ax[3,1])\n",
        "sns.distplot(wine1.Dilution,ax=ax[3,2])\n",
        "sns.distplot(wine1.Proline,ax=ax[4,0])\n",
        "plt.tight_layout()\n",
        "plt.show()"
      ],
      "execution_count": 14,
      "outputs": [
        {
          "output_type": "stream",
          "name": "stderr",
          "text": [
            "/usr/local/lib/python3.7/dist-packages/seaborn/distributions.py:2557: FutureWarning: `distplot` is a deprecated function and will be removed in a future version. Please adapt your code to use either `displot` (a figure-level function with similar flexibility) or `histplot` (an axes-level function for histograms).\n",
            "  warnings.warn(msg, FutureWarning)\n",
            "/usr/local/lib/python3.7/dist-packages/seaborn/distributions.py:2557: FutureWarning: `distplot` is a deprecated function and will be removed in a future version. Please adapt your code to use either `displot` (a figure-level function with similar flexibility) or `histplot` (an axes-level function for histograms).\n",
            "  warnings.warn(msg, FutureWarning)\n",
            "/usr/local/lib/python3.7/dist-packages/seaborn/distributions.py:2557: FutureWarning: `distplot` is a deprecated function and will be removed in a future version. Please adapt your code to use either `displot` (a figure-level function with similar flexibility) or `histplot` (an axes-level function for histograms).\n",
            "  warnings.warn(msg, FutureWarning)\n",
            "/usr/local/lib/python3.7/dist-packages/seaborn/distributions.py:2557: FutureWarning: `distplot` is a deprecated function and will be removed in a future version. Please adapt your code to use either `displot` (a figure-level function with similar flexibility) or `histplot` (an axes-level function for histograms).\n",
            "  warnings.warn(msg, FutureWarning)\n",
            "/usr/local/lib/python3.7/dist-packages/seaborn/distributions.py:2557: FutureWarning: `distplot` is a deprecated function and will be removed in a future version. Please adapt your code to use either `displot` (a figure-level function with similar flexibility) or `histplot` (an axes-level function for histograms).\n",
            "  warnings.warn(msg, FutureWarning)\n",
            "/usr/local/lib/python3.7/dist-packages/seaborn/distributions.py:2557: FutureWarning: `distplot` is a deprecated function and will be removed in a future version. Please adapt your code to use either `displot` (a figure-level function with similar flexibility) or `histplot` (an axes-level function for histograms).\n",
            "  warnings.warn(msg, FutureWarning)\n",
            "/usr/local/lib/python3.7/dist-packages/seaborn/distributions.py:2557: FutureWarning: `distplot` is a deprecated function and will be removed in a future version. Please adapt your code to use either `displot` (a figure-level function with similar flexibility) or `histplot` (an axes-level function for histograms).\n",
            "  warnings.warn(msg, FutureWarning)\n",
            "/usr/local/lib/python3.7/dist-packages/seaborn/distributions.py:2557: FutureWarning: `distplot` is a deprecated function and will be removed in a future version. Please adapt your code to use either `displot` (a figure-level function with similar flexibility) or `histplot` (an axes-level function for histograms).\n",
            "  warnings.warn(msg, FutureWarning)\n",
            "/usr/local/lib/python3.7/dist-packages/seaborn/distributions.py:2557: FutureWarning: `distplot` is a deprecated function and will be removed in a future version. Please adapt your code to use either `displot` (a figure-level function with similar flexibility) or `histplot` (an axes-level function for histograms).\n",
            "  warnings.warn(msg, FutureWarning)\n",
            "/usr/local/lib/python3.7/dist-packages/seaborn/distributions.py:2557: FutureWarning: `distplot` is a deprecated function and will be removed in a future version. Please adapt your code to use either `displot` (a figure-level function with similar flexibility) or `histplot` (an axes-level function for histograms).\n",
            "  warnings.warn(msg, FutureWarning)\n",
            "/usr/local/lib/python3.7/dist-packages/seaborn/distributions.py:2557: FutureWarning: `distplot` is a deprecated function and will be removed in a future version. Please adapt your code to use either `displot` (a figure-level function with similar flexibility) or `histplot` (an axes-level function for histograms).\n",
            "  warnings.warn(msg, FutureWarning)\n",
            "/usr/local/lib/python3.7/dist-packages/seaborn/distributions.py:2557: FutureWarning: `distplot` is a deprecated function and will be removed in a future version. Please adapt your code to use either `displot` (a figure-level function with similar flexibility) or `histplot` (an axes-level function for histograms).\n",
            "  warnings.warn(msg, FutureWarning)\n",
            "/usr/local/lib/python3.7/dist-packages/seaborn/distributions.py:2557: FutureWarning: `distplot` is a deprecated function and will be removed in a future version. Please adapt your code to use either `displot` (a figure-level function with similar flexibility) or `histplot` (an axes-level function for histograms).\n",
            "  warnings.warn(msg, FutureWarning)\n"
          ]
        },
        {
          "output_type": "display_data",
          "data": {
            "image/png": "[encoded data removed]",
            "text/plain": [
              "<Figure size 1080x504 with 15 Axes>"
            ]
          },
          "metadata": {
            "needs_background": "light"
          }
        }
      ]
    },
    {
      "cell_type": "markdown",
      "metadata": {
        "id": "IziDsSTkq1sA"
      },
      "source": [
        "## Normalizing the numerical data for apply the clustering"
      ]
    },
    {
      "cell_type": "code",
      "metadata": {
        "id": "un5x9vjQq1sB"
      },
      "source": [
        "wine1_normal = scale(wine1)"
      ],
      "execution_count": 15,
      "outputs": []
    },
    {
      "cell_type": "code",
      "metadata": {
        "id": "fjQn9JyZq1sB",
        "colab": {
          "base_uri": "https://localhost:8080/"
        },
        "outputId": "65fe9f41-defd-4135-bac7-f4a284224de9"
      },
      "source": [
        "wine1_normal"
      ],
      "execution_count": 16,
      "outputs": [
        {
          "output_type": "execute_result",
          "data": {
            "text/plain": [
              "array([[ 1.51861254, -0.5622498 ,  0.23205254, ...,  0.36217728,\n",
              "         1.84791957,  1.01300893],\n",
              "       [ 0.24628963, -0.49941338, -0.82799632, ...,  0.40605066,\n",
              "         1.1134493 ,  0.96524152],\n",
              "       [ 0.19687903,  0.02123125,  1.10933436, ...,  0.31830389,\n",
              "         0.78858745,  1.39514818],\n",
              "       ...,\n",
              "       [ 0.33275817,  1.74474449, -0.38935541, ..., -1.61212515,\n",
              "        -1.48544548,  0.28057537],\n",
              "       [ 0.20923168,  0.22769377,  0.01273209, ..., -1.56825176,\n",
              "        -1.40069891,  0.29649784],\n",
              "       [ 1.39508604,  1.58316512,  1.36520822, ..., -1.52437837,\n",
              "        -1.42894777, -0.59516041]])"
            ]
          },
          "metadata": {},
          "execution_count": 16
        }
      ]
    },
    {
      "cell_type": "markdown",
      "metadata": {
        "id": "XWVhKQppq1sC"
      },
      "source": [
        "## We will apply the different type of clustering method on the dataset without performing PCA and see the inference regarding clustering"
      ]
    },
    {
      "cell_type": "code",
      "metadata": {
        "id": "sbIwnf4Bq1sC"
      },
      "source": [
        "import scipy.cluster.hierarchy as sch\n",
        "from sklearn.cluster import AgglomerativeClustering"
      ],
      "execution_count": 17,
      "outputs": []
    },
    {
      "cell_type": "markdown",
      "metadata": {
        "id": "6GrJyK5Bq1sC"
      },
      "source": [
        "## First we will make the hierarchical cluster using of different type linkage  method"
      ]
    },
    {
      "cell_type": "markdown",
      "metadata": {
        "id": "E8jmTBOzq1sD"
      },
      "source": [
        "### Applying average linkage method"
      ]
    },
    {
      "cell_type": "code",
      "metadata": {
        "colab": {
          "base_uri": "https://localhost:8080/",
          "height": 626
        },
        "id": "Cb2vPb9eq1sD",
        "outputId": "0d798dac-7978-49a2-de04-0e8a8206d577"
      },
      "source": [
        "#create dendrogram\n",
        "fig=plt.figure(figsize=(16,10))\n",
        "dendrogram = sch.dendrogram(sch.linkage(wine1_normal, method='average'))\n",
        "plt.title(\"Dendrogram\",size=15)"
      ],
      "execution_count": 18,
      "outputs": [
        {
          "output_type": "execute_result",
          "data": {
            "text/plain": [
              "Text(0.5, 1.0, 'Dendrogram')"
            ]
          },
          "metadata": {},
          "execution_count": 18
        },
        {
          "output_type": "display_data",
          "data": {
            "image/png": "[encoded data removed]",
            "text/plain": [
              "<Figure size 1152x720 with 1 Axes>"
            ]
          },
          "metadata": {
            "needs_background": "light"
          }
        }
      ]
    },
    {
      "cell_type": "code",
      "metadata": {
        "id": "M1J0f1y_q1sE"
      },
      "source": [
        "# we will take 5 cluster\n",
        "# create clusters\n",
        "hc1 = AgglomerativeClustering(n_clusters=5, affinity = 'euclidean', linkage = 'average')"
      ],
      "execution_count": 19,
      "outputs": []
    },
    {
      "cell_type": "code",
      "metadata": {
        "id": "alKZWQe0q1sE"
      },
      "source": [
        "# save clusters for chart\n",
        "y_hc1 = hc1.fit_predict(wine1_normal)\n",
        "Clusters=pd.DataFrame(y_hc1,columns=['Clusters'])"
      ],
      "execution_count": 20,
      "outputs": []
    },
    {
      "cell_type": "code",
      "metadata": {
        "id": "HPKWmzoXq1sE"
      },
      "source": [
        "wine['cluster'] = y_hc1"
      ],
      "execution_count": 21,
      "outputs": []
    },
    {
      "cell_type": "code",
      "metadata": {
        "id": "6sVMWFqYq1sF",
        "colab": {
          "base_uri": "https://localhost:8080/",
          "height": 255
        },
        "outputId": "e5ad14f2-8b44-4b39-d740-1e7358da6997"
      },
      "source": [
        "wine.groupby('cluster').agg(['mean']).reset_index()"
      ],
      "execution_count": 22,
      "outputs": [
        {
          "output_type": "execute_result",
          "data": {
            "text/html": [
              "<div>\n",
              "<style scoped>\n",
              "    .dataframe tbody tr th:only-of-type {\n",
              "        vertical-align: middle;\n",
              "    }\n",
              "\n",
              "    .dataframe tbody tr th {\n",
              "        vertical-align: top;\n",
              "    }\n",
              "\n",
              "    .dataframe thead tr th {\n",
              "        text-align: left;\n",
              "    }\n",
              "</style>\n",
              "<table border=\"1\" class=\"dataframe\">\n",
              "  <thead>\n",
              "    <tr>\n",
              "      <th></th>\n",
              "      <th>cluster</th>\n",
              "      <th>Type</th>\n",
              "      <th>Alcohol</th>\n",
              "      <th>Malic</th>\n",
              "      <th>Ash</th>\n",
              "      <th>Alcalinity</th>\n",
              "      <th>Magnesium</th>\n",
              "      <th>Phenols</th>\n",
              "      <th>Flavanoids</th>\n",
              "      <th>Nonflavanoids</th>\n",
              "      <th>Proanthocyanins</th>\n",
              "      <th>Color</th>\n",
              "      <th>Hue</th>\n",
              "      <th>Dilution</th>\n",
              "      <th>Proline</th>\n",
              "    </tr>\n",
              "    <tr>\n",
              "      <th></th>\n",
              "      <th></th>\n",
              "      <th>mean</th>\n",
              "      <th>mean</th>\n",
              "      <th>mean</th>\n",
              "      <th>mean</th>\n",
              "      <th>mean</th>\n",
              "      <th>mean</th>\n",
              "      <th>mean</th>\n",
              "      <th>mean</th>\n",
              "      <th>mean</th>\n",
              "      <th>mean</th>\n",
              "      <th>mean</th>\n",
              "      <th>mean</th>\n",
              "      <th>mean</th>\n",
              "      <th>mean</th>\n",
              "    </tr>\n",
              "  </thead>\n",
              "  <tbody>\n",
              "    <tr>\n",
              "      <th>0</th>\n",
              "      <td>0</td>\n",
              "      <td>1.500000</td>\n",
              "      <td>13.003879</td>\n",
              "      <td>1.996207</td>\n",
              "      <td>2.343017</td>\n",
              "      <td>18.665517</td>\n",
              "      <td>97.612069</td>\n",
              "      <td>2.568448</td>\n",
              "      <td>2.572069</td>\n",
              "      <td>0.322672</td>\n",
              "      <td>1.776379</td>\n",
              "      <td>4.27931</td>\n",
              "      <td>1.058879</td>\n",
              "      <td>3.017672</td>\n",
              "      <td>802.732759</td>\n",
              "    </tr>\n",
              "    <tr>\n",
              "      <th>1</th>\n",
              "      <td>1</td>\n",
              "      <td>2.888889</td>\n",
              "      <td>13.090185</td>\n",
              "      <td>3.181111</td>\n",
              "      <td>2.414815</td>\n",
              "      <td>21.087037</td>\n",
              "      <td>99.592593</td>\n",
              "      <td>1.697222</td>\n",
              "      <td>0.837778</td>\n",
              "      <td>0.455556</td>\n",
              "      <td>1.126852</td>\n",
              "      <td>6.99463</td>\n",
              "      <td>0.717148</td>\n",
              "      <td>1.710185</td>\n",
              "      <td>629.629630</td>\n",
              "    </tr>\n",
              "    <tr>\n",
              "      <th>2</th>\n",
              "      <td>2</td>\n",
              "      <td>1.666667</td>\n",
              "      <td>12.533333</td>\n",
              "      <td>1.923333</td>\n",
              "      <td>3.016667</td>\n",
              "      <td>27.833333</td>\n",
              "      <td>127.333333</td>\n",
              "      <td>3.036667</td>\n",
              "      <td>3.550000</td>\n",
              "      <td>0.383333</td>\n",
              "      <td>1.916667</td>\n",
              "      <td>4.31000</td>\n",
              "      <td>1.123333</td>\n",
              "      <td>3.463333</td>\n",
              "      <td>760.000000</td>\n",
              "    </tr>\n",
              "    <tr>\n",
              "      <th>3</th>\n",
              "      <td>3</td>\n",
              "      <td>2.000000</td>\n",
              "      <td>12.370000</td>\n",
              "      <td>0.940000</td>\n",
              "      <td>1.360000</td>\n",
              "      <td>10.600000</td>\n",
              "      <td>88.000000</td>\n",
              "      <td>1.980000</td>\n",
              "      <td>0.570000</td>\n",
              "      <td>0.280000</td>\n",
              "      <td>0.420000</td>\n",
              "      <td>1.95000</td>\n",
              "      <td>1.050000</td>\n",
              "      <td>1.820000</td>\n",
              "      <td>520.000000</td>\n",
              "    </tr>\n",
              "    <tr>\n",
              "      <th>4</th>\n",
              "      <td>4</td>\n",
              "      <td>2.000000</td>\n",
              "      <td>12.205000</td>\n",
              "      <td>1.455000</td>\n",
              "      <td>2.160000</td>\n",
              "      <td>18.025000</td>\n",
              "      <td>145.750000</td>\n",
              "      <td>1.962500</td>\n",
              "      <td>1.597500</td>\n",
              "      <td>0.237500</td>\n",
              "      <td>2.525000</td>\n",
              "      <td>2.83750</td>\n",
              "      <td>1.112500</td>\n",
              "      <td>2.567500</td>\n",
              "      <td>757.500000</td>\n",
              "    </tr>\n",
              "  </tbody>\n",
              "</table>\n",
              "</div>"
            ],
            "text/plain": [
              "  cluster      Type    Alcohol  ...       Hue  Dilution     Proline\n",
              "               mean       mean  ...      mean      mean        mean\n",
              "0       0  1.500000  13.003879  ...  1.058879  3.017672  802.732759\n",
              "1       1  2.888889  13.090185  ...  0.717148  1.710185  629.629630\n",
              "2       2  1.666667  12.533333  ...  1.123333  3.463333  760.000000\n",
              "3       3  2.000000  12.370000  ...  1.050000  1.820000  520.000000\n",
              "4       4  2.000000  12.205000  ...  1.112500  2.567500  757.500000\n",
              "\n",
              "[5 rows x 15 columns]"
            ]
          },
          "metadata": {},
          "execution_count": 22
        }
      ]
    },
    {
      "cell_type": "code",
      "metadata": {
        "id": "huEp-Ls4q1sI",
        "colab": {
          "base_uri": "https://localhost:8080/"
        },
        "outputId": "183c1022-75e8-4096-9c72-67b3232801ac"
      },
      "source": [
        "#print the cluster details\n",
        "for i in range(5):\n",
        "    print(\"cluster\", i)\n",
        "   # print(\"The Members:\",(list(airlines[airlines['cluster'] == i]['ID#'].values)))\n",
        "    print(\"Total Members:\", len(list(wine[wine['cluster'] == i]['Type'].values)))\n",
        "    print()"
      ],
      "execution_count": 23,
      "outputs": [
        {
          "output_type": "stream",
          "name": "stdout",
          "text": [
            "cluster 0\n",
            "Total Members: 116\n",
            "\n",
            "cluster 1\n",
            "Total Members: 54\n",
            "\n",
            "cluster 2\n",
            "Total Members: 3\n",
            "\n",
            "cluster 3\n",
            "Total Members: 1\n",
            "\n",
            "cluster 4\n",
            "Total Members: 4\n",
            "\n"
          ]
        }
      ]
    },
    {
      "cell_type": "markdown",
      "metadata": {
        "id": "JllmEQ4kq1sJ"
      },
      "source": [
        "### Applying complete linkage method"
      ]
    },
    {
      "cell_type": "code",
      "metadata": {
        "id": "bs1uM08Kq1sJ",
        "colab": {
          "base_uri": "https://localhost:8080/",
          "height": 626
        },
        "outputId": "45c685d1-4b17-46e2-92a0-be2f79ee3e68"
      },
      "source": [
        "#create dendrogram\n",
        "fig=plt.figure(figsize=(16,10))\n",
        "dendrogram = sch.dendrogram(sch.linkage(wine1_normal, method='complete'))\n",
        "plt.title(\"Dendrogram\",size=15)"
      ],
      "execution_count": 24,
      "outputs": [
        {
          "output_type": "execute_result",
          "data": {
            "text/plain": [
              "Text(0.5, 1.0, 'Dendrogram')"
            ]
          },
          "metadata": {},
          "execution_count": 24
        },
        {
          "output_type": "display_data",
          "data": {
            "image/png": "[encoded data removed]",
            "text/plain": [
              "<Figure size 1152x720 with 1 Axes>"
            ]
          },
          "metadata": {
            "needs_background": "light"
          }
        }
      ]
    },
    {
      "cell_type": "code",
      "metadata": {
        "id": "SjpFONoIq1sK"
      },
      "source": [
        "# we will take 4 cluster\n",
        "# create clusters\n",
        "hc2 = AgglomerativeClustering(n_clusters=4, affinity = 'euclidean', linkage = 'complete')"
      ],
      "execution_count": 25,
      "outputs": []
    },
    {
      "cell_type": "code",
      "metadata": {
        "id": "z9strQrYq1sK"
      },
      "source": [
        "# save clusters for chart\n",
        "y_hc2 = hc2.fit_predict(wine1_normal)\n",
        "Clusters=pd.DataFrame(y_hc2,columns=['Clusters'])"
      ],
      "execution_count": 26,
      "outputs": []
    },
    {
      "cell_type": "code",
      "metadata": {
        "id": "swGWKYeEq1sL"
      },
      "source": [
        "wine['cluster'] = y_hc2"
      ],
      "execution_count": 27,
      "outputs": []
    },
    {
      "cell_type": "code",
      "metadata": {
        "id": "jKOBGEnIq1sL",
        "colab": {
          "base_uri": "https://localhost:8080/",
          "height": 224
        },
        "outputId": "be475a18-c4d8-41e8-8a8b-a2b4c9434043"
      },
      "source": [
        "wine.groupby('cluster').agg(['mean']).reset_index()"
      ],
      "execution_count": 28,
      "outputs": [
        {
          "output_type": "execute_result",
          "data": {
            "text/html": [
              "<div>\n",
              "<style scoped>\n",
              "    .dataframe tbody tr th:only-of-type {\n",
              "        vertical-align: middle;\n",
              "    }\n",
              "\n",
              "    .dataframe tbody tr th {\n",
              "        vertical-align: top;\n",
              "    }\n",
              "\n",
              "    .dataframe thead tr th {\n",
              "        text-align: left;\n",
              "    }\n",
              "</style>\n",
              "<table border=\"1\" class=\"dataframe\">\n",
              "  <thead>\n",
              "    <tr>\n",
              "      <th></th>\n",
              "      <th>cluster</th>\n",
              "      <th>Type</th>\n",
              "      <th>Alcohol</th>\n",
              "      <th>Malic</th>\n",
              "      <th>Ash</th>\n",
              "      <th>Alcalinity</th>\n",
              "      <th>Magnesium</th>\n",
              "      <th>Phenols</th>\n",
              "      <th>Flavanoids</th>\n",
              "      <th>Nonflavanoids</th>\n",
              "      <th>Proanthocyanins</th>\n",
              "      <th>Color</th>\n",
              "      <th>Hue</th>\n",
              "      <th>Dilution</th>\n",
              "      <th>Proline</th>\n",
              "    </tr>\n",
              "    <tr>\n",
              "      <th></th>\n",
              "      <th></th>\n",
              "      <th>mean</th>\n",
              "      <th>mean</th>\n",
              "      <th>mean</th>\n",
              "      <th>mean</th>\n",
              "      <th>mean</th>\n",
              "      <th>mean</th>\n",
              "      <th>mean</th>\n",
              "      <th>mean</th>\n",
              "      <th>mean</th>\n",
              "      <th>mean</th>\n",
              "      <th>mean</th>\n",
              "      <th>mean</th>\n",
              "      <th>mean</th>\n",
              "      <th>mean</th>\n",
              "    </tr>\n",
              "  </thead>\n",
              "  <tbody>\n",
              "    <tr>\n",
              "      <th>0</th>\n",
              "      <td>0</td>\n",
              "      <td>1.862069</td>\n",
              "      <td>12.415172</td>\n",
              "      <td>1.989828</td>\n",
              "      <td>2.381379</td>\n",
              "      <td>21.117241</td>\n",
              "      <td>93.844828</td>\n",
              "      <td>2.424828</td>\n",
              "      <td>2.339828</td>\n",
              "      <td>0.366897</td>\n",
              "      <td>1.678103</td>\n",
              "      <td>3.280345</td>\n",
              "      <td>1.057931</td>\n",
              "      <td>2.978448</td>\n",
              "      <td>573.379310</td>\n",
              "    </tr>\n",
              "    <tr>\n",
              "      <th>1</th>\n",
              "      <td>1</td>\n",
              "      <td>1.105263</td>\n",
              "      <td>13.604211</td>\n",
              "      <td>1.982807</td>\n",
              "      <td>2.360526</td>\n",
              "      <td>16.652632</td>\n",
              "      <td>106.368421</td>\n",
              "      <td>2.797719</td>\n",
              "      <td>2.920175</td>\n",
              "      <td>0.274386</td>\n",
              "      <td>2.015088</td>\n",
              "      <td>5.326667</td>\n",
              "      <td>1.051579</td>\n",
              "      <td>3.141228</td>\n",
              "      <td>1073.052632</td>\n",
              "    </tr>\n",
              "    <tr>\n",
              "      <th>2</th>\n",
              "      <td>2</td>\n",
              "      <td>2.941176</td>\n",
              "      <td>13.117843</td>\n",
              "      <td>3.322157</td>\n",
              "      <td>2.431765</td>\n",
              "      <td>21.333333</td>\n",
              "      <td>99.333333</td>\n",
              "      <td>1.675686</td>\n",
              "      <td>0.810588</td>\n",
              "      <td>0.444314</td>\n",
              "      <td>1.164314</td>\n",
              "      <td>7.170980</td>\n",
              "      <td>0.691373</td>\n",
              "      <td>1.709804</td>\n",
              "      <td>622.490196</td>\n",
              "    </tr>\n",
              "    <tr>\n",
              "      <th>3</th>\n",
              "      <td>3</td>\n",
              "      <td>2.000000</td>\n",
              "      <td>12.465000</td>\n",
              "      <td>1.500833</td>\n",
              "      <td>2.045833</td>\n",
              "      <td>17.341667</td>\n",
              "      <td>98.500000</td>\n",
              "      <td>1.913333</td>\n",
              "      <td>1.475833</td>\n",
              "      <td>0.402500</td>\n",
              "      <td>0.967500</td>\n",
              "      <td>3.395000</td>\n",
              "      <td>1.155500</td>\n",
              "      <td>2.156667</td>\n",
              "      <td>565.000000</td>\n",
              "    </tr>\n",
              "  </tbody>\n",
              "</table>\n",
              "</div>"
            ],
            "text/plain": [
              "  cluster      Type    Alcohol  ...       Hue  Dilution      Proline\n",
              "               mean       mean  ...      mean      mean         mean\n",
              "0       0  1.862069  12.415172  ...  1.057931  2.978448   573.379310\n",
              "1       1  1.105263  13.604211  ...  1.051579  3.141228  1073.052632\n",
              "2       2  2.941176  13.117843  ...  0.691373  1.709804   622.490196\n",
              "3       3  2.000000  12.465000  ...  1.155500  2.156667   565.000000\n",
              "\n",
              "[4 rows x 15 columns]"
            ]
          },
          "metadata": {},
          "execution_count": 28
        }
      ]
    },
    {
      "cell_type": "code",
      "metadata": {
        "id": "nZikxzc8q1sM",
        "colab": {
          "base_uri": "https://localhost:8080/"
        },
        "outputId": "3fa6f5a5-d002-4215-d6dd-64cc9be150c0"
      },
      "source": [
        "#print cluster details\n",
        "for i in range(4):\n",
        "    print(\"cluster\", i)\n",
        "   # print(\"The Members:\",(list(airlines[airlines['cluster'] == i]['ID#'].values)))\n",
        "    print(\"Total Members:\", len(list(wine[wine['cluster'] == i]['Type'].values)))\n",
        "    print()"
      ],
      "execution_count": 29,
      "outputs": [
        {
          "output_type": "stream",
          "name": "stdout",
          "text": [
            "cluster 0\n",
            "Total Members: 58\n",
            "\n",
            "cluster 1\n",
            "Total Members: 57\n",
            "\n",
            "cluster 2\n",
            "Total Members: 51\n",
            "\n",
            "cluster 3\n",
            "Total Members: 12\n",
            "\n"
          ]
        }
      ]
    },
    {
      "cell_type": "markdown",
      "metadata": {
        "id": "hDb7PUXBq1sM"
      },
      "source": [
        "### Applying centroid(ward) linkage method"
      ]
    },
    {
      "cell_type": "code",
      "metadata": {
        "id": "hSZ_mCFVq1sN",
        "colab": {
          "base_uri": "https://localhost:8080/",
          "height": 626
        },
        "outputId": "9dee03b3-21d5-40ee-9836-b5494a606c5b"
      },
      "source": [
        "#create dendrogram\n",
        "fig=plt.figure(figsize=(16,10))\n",
        "dendrogram = sch.dendrogram(sch.linkage(wine1_normal, method='ward'))\n",
        "plt.title(\"Dendrogram\",size=15)"
      ],
      "execution_count": 30,
      "outputs": [
        {
          "output_type": "execute_result",
          "data": {
            "text/plain": [
              "Text(0.5, 1.0, 'Dendrogram')"
            ]
          },
          "metadata": {},
          "execution_count": 30
        },
        {
          "output_type": "display_data",
          "data": {
            "image/png": "[encoded data removed]",
            "text/plain": [
              "<Figure size 1152x720 with 1 Axes>"
            ]
          },
          "metadata": {
            "needs_background": "light"
          }
        }
      ]
    },
    {
      "cell_type": "code",
      "metadata": {
        "id": "QcQ6TgEVq1sN"
      },
      "source": [
        "#we will take 3 cluster\n",
        "#create clusters\n",
        "hc3 = AgglomerativeClustering(n_clusters=3, affinity = 'euclidean', linkage = 'ward')"
      ],
      "execution_count": 31,
      "outputs": []
    },
    {
      "cell_type": "code",
      "metadata": {
        "id": "-NRf80Xpq1sN"
      },
      "source": [
        "# save clusters for chart\n",
        "y_hc3 = hc3.fit_predict(wine1_normal)\n",
        "Clusters=pd.DataFrame(y_hc3,columns=['Clusters'])"
      ],
      "execution_count": 32,
      "outputs": []
    },
    {
      "cell_type": "code",
      "metadata": {
        "id": "gA9u4itEq1sO"
      },
      "source": [
        "wine['cluster'] = y_hc3"
      ],
      "execution_count": 33,
      "outputs": []
    },
    {
      "cell_type": "code",
      "metadata": {
        "id": "NluwA9kNq1sO",
        "colab": {
          "base_uri": "https://localhost:8080/",
          "height": 193
        },
        "outputId": "73c2fcfb-85e7-4e04-a203-ab95e85c9f61"
      },
      "source": [
        "wine.groupby('cluster').agg(['mean']).reset_index()"
      ],
      "execution_count": 34,
      "outputs": [
        {
          "output_type": "execute_result",
          "data": {
            "text/html": [
              "<div>\n",
              "<style scoped>\n",
              "    .dataframe tbody tr th:only-of-type {\n",
              "        vertical-align: middle;\n",
              "    }\n",
              "\n",
              "    .dataframe tbody tr th {\n",
              "        vertical-align: top;\n",
              "    }\n",
              "\n",
              "    .dataframe thead tr th {\n",
              "        text-align: left;\n",
              "    }\n",
              "</style>\n",
              "<table border=\"1\" class=\"dataframe\">\n",
              "  <thead>\n",
              "    <tr>\n",
              "      <th></th>\n",
              "      <th>cluster</th>\n",
              "      <th>Type</th>\n",
              "      <th>Alcohol</th>\n",
              "      <th>Malic</th>\n",
              "      <th>Ash</th>\n",
              "      <th>Alcalinity</th>\n",
              "      <th>Magnesium</th>\n",
              "      <th>Phenols</th>\n",
              "      <th>Flavanoids</th>\n",
              "      <th>Nonflavanoids</th>\n",
              "      <th>Proanthocyanins</th>\n",
              "      <th>Color</th>\n",
              "      <th>Hue</th>\n",
              "      <th>Dilution</th>\n",
              "      <th>Proline</th>\n",
              "    </tr>\n",
              "    <tr>\n",
              "      <th></th>\n",
              "      <th></th>\n",
              "      <th>mean</th>\n",
              "      <th>mean</th>\n",
              "      <th>mean</th>\n",
              "      <th>mean</th>\n",
              "      <th>mean</th>\n",
              "      <th>mean</th>\n",
              "      <th>mean</th>\n",
              "      <th>mean</th>\n",
              "      <th>mean</th>\n",
              "      <th>mean</th>\n",
              "      <th>mean</th>\n",
              "      <th>mean</th>\n",
              "      <th>mean</th>\n",
              "      <th>mean</th>\n",
              "    </tr>\n",
              "  </thead>\n",
              "  <tbody>\n",
              "    <tr>\n",
              "      <th>0</th>\n",
              "      <td>0</td>\n",
              "      <td>2.000000</td>\n",
              "      <td>12.203966</td>\n",
              "      <td>1.938966</td>\n",
              "      <td>2.215172</td>\n",
              "      <td>20.208621</td>\n",
              "      <td>92.551724</td>\n",
              "      <td>2.262931</td>\n",
              "      <td>2.088103</td>\n",
              "      <td>0.355345</td>\n",
              "      <td>1.686552</td>\n",
              "      <td>2.895345</td>\n",
              "      <td>1.060000</td>\n",
              "      <td>2.862241</td>\n",
              "      <td>501.431034</td>\n",
              "    </tr>\n",
              "    <tr>\n",
              "      <th>1</th>\n",
              "      <td>1</td>\n",
              "      <td>2.857143</td>\n",
              "      <td>13.061607</td>\n",
              "      <td>3.166607</td>\n",
              "      <td>2.412857</td>\n",
              "      <td>21.003571</td>\n",
              "      <td>99.857143</td>\n",
              "      <td>1.694286</td>\n",
              "      <td>0.847857</td>\n",
              "      <td>0.449464</td>\n",
              "      <td>1.129286</td>\n",
              "      <td>6.850179</td>\n",
              "      <td>0.721000</td>\n",
              "      <td>1.727321</td>\n",
              "      <td>624.946429</td>\n",
              "    </tr>\n",
              "    <tr>\n",
              "      <th>2</th>\n",
              "      <td>2</td>\n",
              "      <td>1.078125</td>\n",
              "      <td>13.669219</td>\n",
              "      <td>1.970000</td>\n",
              "      <td>2.463125</td>\n",
              "      <td>17.528125</td>\n",
              "      <td>106.156250</td>\n",
              "      <td>2.850000</td>\n",
              "      <td>3.009688</td>\n",
              "      <td>0.291094</td>\n",
              "      <td>1.908125</td>\n",
              "      <td>5.450000</td>\n",
              "      <td>1.071406</td>\n",
              "      <td>3.158438</td>\n",
              "      <td>1076.046875</td>\n",
              "    </tr>\n",
              "  </tbody>\n",
              "</table>\n",
              "</div>"
            ],
            "text/plain": [
              "  cluster      Type    Alcohol  ...       Hue  Dilution      Proline\n",
              "               mean       mean  ...      mean      mean         mean\n",
              "0       0  2.000000  12.203966  ...  1.060000  2.862241   501.431034\n",
              "1       1  2.857143  13.061607  ...  0.721000  1.727321   624.946429\n",
              "2       2  1.078125  13.669219  ...  1.071406  3.158438  1076.046875\n",
              "\n",
              "[3 rows x 15 columns]"
            ]
          },
          "metadata": {},
          "execution_count": 34
        }
      ]
    },
    {
      "cell_type": "code",
      "metadata": {
        "id": "XvhmBDrtq1sP",
        "colab": {
          "base_uri": "https://localhost:8080/"
        },
        "outputId": "dbb2a698-c822-432c-a61f-c8c101ca72c7"
      },
      "source": [
        "# print the cluster details\n",
        "for i in range(3):\n",
        "    print(\"cluster\", i)\n",
        "   # print(\"The Members:\",(list(airlines[airlines['cluster'] == i]['ID#'].values)))\n",
        "    print(\"Total Members:\", len(list(wine[wine['cluster'] == i]['Type'].values)))\n",
        "    print()"
      ],
      "execution_count": 35,
      "outputs": [
        {
          "output_type": "stream",
          "name": "stdout",
          "text": [
            "cluster 0\n",
            "Total Members: 58\n",
            "\n",
            "cluster 1\n",
            "Total Members: 56\n",
            "\n",
            "cluster 2\n",
            "Total Members: 64\n",
            "\n"
          ]
        }
      ]
    },
    {
      "cell_type": "markdown",
      "metadata": {
        "id": "sVzb6dqwq1sP"
      },
      "source": [
        "### Applying single linkage method"
      ]
    },
    {
      "cell_type": "code",
      "metadata": {
        "id": "NPQC9RaAq1sR",
        "colab": {
          "base_uri": "https://localhost:8080/",
          "height": 626
        },
        "outputId": "6ce54d4f-f5e3-4841-c237-87ab190bea27"
      },
      "source": [
        "# create dendrogram\n",
        "fig=plt.figure(figsize=(16,10))\n",
        "dendrogram = sch.dendrogram(sch.linkage(wine1_normal, method='single'))\n",
        "plt.title(\"Dendrogram\",size=15)"
      ],
      "execution_count": 36,
      "outputs": [
        {
          "output_type": "execute_result",
          "data": {
            "text/plain": [
              "Text(0.5, 1.0, 'Dendrogram')"
            ]
          },
          "metadata": {},
          "execution_count": 36
        },
        {
          "output_type": "display_data",
          "data": {
            "image/png": "[encoded data removed]",
            "text/plain": [
              "<Figure size 1152x720 with 1 Axes>"
            ]
          },
          "metadata": {
            "needs_background": "light"
          }
        }
      ]
    },
    {
      "cell_type": "code",
      "metadata": {
        "id": "b0c4UbsZq1sS"
      },
      "source": [
        "# from the above dendrogram we will take 2 clusters\n",
        "#create clusters\n",
        "hc4 = AgglomerativeClustering(n_clusters=2, affinity = 'euclidean', linkage = 'single')"
      ],
      "execution_count": 37,
      "outputs": []
    },
    {
      "cell_type": "code",
      "metadata": {
        "id": "45KsfcGlq1sS"
      },
      "source": [
        "# save clusters for chart\n",
        "y_hc4 = hc4.fit_predict(wine1_normal)\n",
        "Clusters=pd.DataFrame(y_hc4,columns=['Clusters'])"
      ],
      "execution_count": 38,
      "outputs": []
    },
    {
      "cell_type": "code",
      "metadata": {
        "id": "1B_VK0pxq1sT"
      },
      "source": [
        "wine['cluster'] = y_hc4"
      ],
      "execution_count": 39,
      "outputs": []
    },
    {
      "cell_type": "code",
      "metadata": {
        "id": "13iOecxmq1sU",
        "colab": {
          "base_uri": "https://localhost:8080/",
          "height": 162
        },
        "outputId": "b17b924e-ec50-4dc1-f743-a0d763119e36"
      },
      "source": [
        "wine.groupby('cluster').agg(['mean']).reset_index()"
      ],
      "execution_count": 40,
      "outputs": [
        {
          "output_type": "execute_result",
          "data": {
            "text/html": [
              "<div>\n",
              "<style scoped>\n",
              "    .dataframe tbody tr th:only-of-type {\n",
              "        vertical-align: middle;\n",
              "    }\n",
              "\n",
              "    .dataframe tbody tr th {\n",
              "        vertical-align: top;\n",
              "    }\n",
              "\n",
              "    .dataframe thead tr th {\n",
              "        text-align: left;\n",
              "    }\n",
              "</style>\n",
              "<table border=\"1\" class=\"dataframe\">\n",
              "  <thead>\n",
              "    <tr>\n",
              "      <th></th>\n",
              "      <th>cluster</th>\n",
              "      <th>Type</th>\n",
              "      <th>Alcohol</th>\n",
              "      <th>Malic</th>\n",
              "      <th>Ash</th>\n",
              "      <th>Alcalinity</th>\n",
              "      <th>Magnesium</th>\n",
              "      <th>Phenols</th>\n",
              "      <th>Flavanoids</th>\n",
              "      <th>Nonflavanoids</th>\n",
              "      <th>Proanthocyanins</th>\n",
              "      <th>Color</th>\n",
              "      <th>Hue</th>\n",
              "      <th>Dilution</th>\n",
              "      <th>Proline</th>\n",
              "    </tr>\n",
              "    <tr>\n",
              "      <th></th>\n",
              "      <th></th>\n",
              "      <th>mean</th>\n",
              "      <th>mean</th>\n",
              "      <th>mean</th>\n",
              "      <th>mean</th>\n",
              "      <th>mean</th>\n",
              "      <th>mean</th>\n",
              "      <th>mean</th>\n",
              "      <th>mean</th>\n",
              "      <th>mean</th>\n",
              "      <th>mean</th>\n",
              "      <th>mean</th>\n",
              "      <th>mean</th>\n",
              "      <th>mean</th>\n",
              "      <th>mean</th>\n",
              "    </tr>\n",
              "  </thead>\n",
              "  <tbody>\n",
              "    <tr>\n",
              "      <th>0</th>\n",
              "      <td>0</td>\n",
              "      <td>1.937143</td>\n",
              "      <td>13.012000</td>\n",
              "      <td>2.355257</td>\n",
              "      <td>2.373371</td>\n",
              "      <td>19.540000</td>\n",
              "      <td>98.885714</td>\n",
              "      <td>2.298743</td>\n",
              "      <td>2.0332</td>\n",
              "      <td>0.363429</td>\n",
              "      <td>1.569371</td>\n",
              "      <td>5.094229</td>\n",
              "      <td>0.953863</td>\n",
              "      <td>2.610686</td>\n",
              "      <td>745.954286</td>\n",
              "    </tr>\n",
              "    <tr>\n",
              "      <th>1</th>\n",
              "      <td>1</td>\n",
              "      <td>2.000000</td>\n",
              "      <td>12.336667</td>\n",
              "      <td>1.233333</td>\n",
              "      <td>1.966667</td>\n",
              "      <td>16.866667</td>\n",
              "      <td>149.666667</td>\n",
              "      <td>2.083333</td>\n",
              "      <td>1.8000</td>\n",
              "      <td>0.270000</td>\n",
              "      <td>2.846667</td>\n",
              "      <td>2.950000</td>\n",
              "      <td>1.166667</td>\n",
              "      <td>2.670000</td>\n",
              "      <td>801.666667</td>\n",
              "    </tr>\n",
              "  </tbody>\n",
              "</table>\n",
              "</div>"
            ],
            "text/plain": [
              "  cluster      Type    Alcohol  ...       Hue  Dilution     Proline\n",
              "               mean       mean  ...      mean      mean        mean\n",
              "0       0  1.937143  13.012000  ...  0.953863  2.610686  745.954286\n",
              "1       1  2.000000  12.336667  ...  1.166667  2.670000  801.666667\n",
              "\n",
              "[2 rows x 15 columns]"
            ]
          },
          "metadata": {},
          "execution_count": 40
        }
      ]
    },
    {
      "cell_type": "code",
      "metadata": {
        "id": "lT82AkkLq1sU",
        "colab": {
          "base_uri": "https://localhost:8080/"
        },
        "outputId": "be60e87e-f852-4987-d670-d2a966afdce0"
      },
      "source": [
        "for i in range(2):\n",
        "    print(\"cluster\", i)\n",
        "   # print(\"The Members:\",(list(airlines[airlines['cluster'] == i]['ID#'].values)))\n",
        "    print(\"Total Members:\", len(list(wine[wine['cluster'] == i]['Type'].values)))\n",
        "    print()"
      ],
      "execution_count": 41,
      "outputs": [
        {
          "output_type": "stream",
          "name": "stdout",
          "text": [
            "cluster 0\n",
            "Total Members: 175\n",
            "\n",
            "cluster 1\n",
            "Total Members: 3\n",
            "\n"
          ]
        }
      ]
    },
    {
      "cell_type": "markdown",
      "metadata": {
        "id": "YVqeAwTUq1sV"
      },
      "source": [
        "### Now we will apply kmeans clustering on the dataset and see the results"
      ]
    },
    {
      "cell_type": "code",
      "metadata": {
        "id": "1ZkWBbzgq1sW",
        "colab": {
          "base_uri": "https://localhost:8080/",
          "height": 295
        },
        "outputId": "3d361c73-26ff-4b36-dcef-b6db73ea99a4"
      },
      "source": [
        "from sklearn.cluster import KMeans\n",
        "wcss = []\n",
        "for i in range(1, 11):\n",
        "    kmeans = KMeans(n_clusters=i,random_state=0)\n",
        "    kmeans.fit(wine1_normal)\n",
        "    wcss.append(kmeans.inertia_)\n",
        "    \n",
        "plt.plot(range(1, 11), wcss)\n",
        "plt.title('Elbow Method')\n",
        "plt.xlabel('Number of clusters')\n",
        "plt.ylabel('WCSS')\n",
        "plt.show()"
      ],
      "execution_count": 42,
      "outputs": [
        {
          "output_type": "display_data",
          "data": {
            "image/png": "[encoded data removed]",
            "text/plain": [
              "<Figure size 432x288 with 1 Axes>"
            ]
          },
          "metadata": {
            "needs_background": "light"
          }
        }
      ]
    },
    {
      "cell_type": "code",
      "metadata": {
        "id": "98LF48jkq1sX",
        "colab": {
          "base_uri": "https://localhost:8080/"
        },
        "outputId": "484b8021-b838-499d-a0c7-471f59c160db"
      },
      "source": [
        "# from the above elbow method we will take 3 clusters\n",
        "from sklearn.cluster import KMeans\n",
        "clusters_new = KMeans(3, random_state=42)\n",
        "clusters_new.fit(wine1_normal)"
      ],
      "execution_count": 43,
      "outputs": [
        {
          "output_type": "execute_result",
          "data": {
            "text/plain": [
              "KMeans(algorithm='auto', copy_x=True, init='k-means++', max_iter=300,\n",
              "       n_clusters=3, n_init=10, n_jobs=None, precompute_distances='auto',\n",
              "       random_state=42, tol=0.0001, verbose=0)"
            ]
          },
          "metadata": {},
          "execution_count": 43
        }
      ]
    },
    {
      "cell_type": "code",
      "metadata": {
        "id": "JSETUrcQq1sZ"
      },
      "source": [
        "KM_label=clusters_new.labels_"
      ],
      "execution_count": 44,
      "outputs": []
    },
    {
      "cell_type": "code",
      "metadata": {
        "id": "CGFI2mINq1sZ"
      },
      "source": [
        "wine['cluster'] = clusters_new.labels_"
      ],
      "execution_count": 45,
      "outputs": []
    },
    {
      "cell_type": "code",
      "metadata": {
        "id": "SOARxU7Yq1sa",
        "colab": {
          "base_uri": "https://localhost:8080/"
        },
        "outputId": "c3ed123e-8a21-4510-deac-d96b87320832"
      },
      "source": [
        "clusters_new.cluster_centers_"
      ],
      "execution_count": 46,
      "outputs": [
        {
          "output_type": "execute_result",
          "data": {
            "text/plain": [
              "array([[ 0.83523208, -0.30380968,  0.36470604, -0.61019129,  0.5775868 ,\n",
              "         0.88523736,  0.97781956, -0.56208965,  0.58028658,  0.17106348,\n",
              "         0.47398365,  0.77924711,  1.12518529],\n",
              "       [ 0.16490746,  0.87154706,  0.18689833,  0.52436746, -0.07547277,\n",
              "        -0.97933029, -1.21524764,  0.72606354, -0.77970639,  0.94153874,\n",
              "        -1.16478865, -1.29241163, -0.40708796],\n",
              "       [-0.92607185, -0.39404154, -0.49451676,  0.17060184, -0.49171185,\n",
              "        -0.07598265,  0.02081257, -0.03353357,  0.0582655 , -0.90191402,\n",
              "         0.46180361,  0.27076419, -0.75384618]])"
            ]
          },
          "metadata": {},
          "execution_count": 46
        }
      ]
    },
    {
      "cell_type": "code",
      "metadata": {
        "id": "LqTw5MDgq1sa",
        "colab": {
          "base_uri": "https://localhost:8080/",
          "height": 193
        },
        "outputId": "75ba6d90-382f-41f3-d257-f0417f2268b9"
      },
      "source": [
        "wine.groupby('cluster').agg(['mean']).reset_index()"
      ],
      "execution_count": 47,
      "outputs": [
        {
          "output_type": "execute_result",
          "data": {
            "text/html": [
              "<div>\n",
              "<style scoped>\n",
              "    .dataframe tbody tr th:only-of-type {\n",
              "        vertical-align: middle;\n",
              "    }\n",
              "\n",
              "    .dataframe tbody tr th {\n",
              "        vertical-align: top;\n",
              "    }\n",
              "\n",
              "    .dataframe thead tr th {\n",
              "        text-align: left;\n",
              "    }\n",
              "</style>\n",
              "<table border=\"1\" class=\"dataframe\">\n",
              "  <thead>\n",
              "    <tr>\n",
              "      <th></th>\n",
              "      <th>cluster</th>\n",
              "      <th>Type</th>\n",
              "      <th>Alcohol</th>\n",
              "      <th>Malic</th>\n",
              "      <th>Ash</th>\n",
              "      <th>Alcalinity</th>\n",
              "      <th>Magnesium</th>\n",
              "      <th>Phenols</th>\n",
              "      <th>Flavanoids</th>\n",
              "      <th>Nonflavanoids</th>\n",
              "      <th>Proanthocyanins</th>\n",
              "      <th>Color</th>\n",
              "      <th>Hue</th>\n",
              "      <th>Dilution</th>\n",
              "      <th>Proline</th>\n",
              "    </tr>\n",
              "    <tr>\n",
              "      <th></th>\n",
              "      <th></th>\n",
              "      <th>mean</th>\n",
              "      <th>mean</th>\n",
              "      <th>mean</th>\n",
              "      <th>mean</th>\n",
              "      <th>mean</th>\n",
              "      <th>mean</th>\n",
              "      <th>mean</th>\n",
              "      <th>mean</th>\n",
              "      <th>mean</th>\n",
              "      <th>mean</th>\n",
              "      <th>mean</th>\n",
              "      <th>mean</th>\n",
              "      <th>mean</th>\n",
              "      <th>mean</th>\n",
              "    </tr>\n",
              "  </thead>\n",
              "  <tbody>\n",
              "    <tr>\n",
              "      <th>0</th>\n",
              "      <td>0</td>\n",
              "      <td>1.048387</td>\n",
              "      <td>13.676774</td>\n",
              "      <td>1.997903</td>\n",
              "      <td>2.466290</td>\n",
              "      <td>17.462903</td>\n",
              "      <td>107.967742</td>\n",
              "      <td>2.847581</td>\n",
              "      <td>3.003226</td>\n",
              "      <td>0.292097</td>\n",
              "      <td>1.922097</td>\n",
              "      <td>5.453548</td>\n",
              "      <td>1.065484</td>\n",
              "      <td>3.163387</td>\n",
              "      <td>1100.225806</td>\n",
              "    </tr>\n",
              "    <tr>\n",
              "      <th>1</th>\n",
              "      <td>1</td>\n",
              "      <td>2.941176</td>\n",
              "      <td>13.134118</td>\n",
              "      <td>3.307255</td>\n",
              "      <td>2.417647</td>\n",
              "      <td>21.241176</td>\n",
              "      <td>98.666667</td>\n",
              "      <td>1.683922</td>\n",
              "      <td>0.818824</td>\n",
              "      <td>0.451961</td>\n",
              "      <td>1.145882</td>\n",
              "      <td>7.234706</td>\n",
              "      <td>0.691961</td>\n",
              "      <td>1.696667</td>\n",
              "      <td>619.058824</td>\n",
              "    </tr>\n",
              "    <tr>\n",
              "      <th>2</th>\n",
              "      <td>2</td>\n",
              "      <td>2.000000</td>\n",
              "      <td>12.250923</td>\n",
              "      <td>1.897385</td>\n",
              "      <td>2.231231</td>\n",
              "      <td>20.063077</td>\n",
              "      <td>92.738462</td>\n",
              "      <td>2.247692</td>\n",
              "      <td>2.050000</td>\n",
              "      <td>0.357692</td>\n",
              "      <td>1.624154</td>\n",
              "      <td>2.973077</td>\n",
              "      <td>1.062708</td>\n",
              "      <td>2.803385</td>\n",
              "      <td>510.169231</td>\n",
              "    </tr>\n",
              "  </tbody>\n",
              "</table>\n",
              "</div>"
            ],
            "text/plain": [
              "  cluster      Type    Alcohol  ...       Hue  Dilution      Proline\n",
              "               mean       mean  ...      mean      mean         mean\n",
              "0       0  1.048387  13.676774  ...  1.065484  3.163387  1100.225806\n",
              "1       1  2.941176  13.134118  ...  0.691961  1.696667   619.058824\n",
              "2       2  2.000000  12.250923  ...  1.062708  2.803385   510.169231\n",
              "\n",
              "[3 rows x 15 columns]"
            ]
          },
          "metadata": {},
          "execution_count": 47
        }
      ]
    },
    {
      "cell_type": "code",
      "metadata": {
        "id": "iNCHHXJaq1sb",
        "colab": {
          "base_uri": "https://localhost:8080/"
        },
        "outputId": "a7d06da8-33c9-4327-a918-da92bc9aa6bb"
      },
      "source": [
        "# print the clusters details\n",
        "for i in range(3):\n",
        "    print(\"cluster\", i)\n",
        "   # print(\"The Members:\",(list(airlines[airlines['cluster'] == i]['ID#'].values)))\n",
        "    print(\"Total Members:\", len(list(wine[wine['cluster'] == i]['Type'].values)))\n",
        "    print()"
      ],
      "execution_count": 48,
      "outputs": [
        {
          "output_type": "stream",
          "name": "stdout",
          "text": [
            "cluster 0\n",
            "Total Members: 62\n",
            "\n",
            "cluster 1\n",
            "Total Members: 51\n",
            "\n",
            "cluster 2\n",
            "Total Members: 65\n",
            "\n"
          ]
        }
      ]
    },
    {
      "cell_type": "markdown",
      "metadata": {
        "id": "Y2R5idNBq1sb"
      },
      "source": [
        "# Now will calculate the silhouette score for all clustering"
      ]
    },
    {
      "cell_type": "code",
      "metadata": {
        "id": "9S3Qop_hq1sc"
      },
      "source": [
        "from sklearn import metrics"
      ],
      "execution_count": 49,
      "outputs": []
    },
    {
      "cell_type": "code",
      "metadata": {
        "id": "Hys1lRl-q1sc",
        "colab": {
          "base_uri": "https://localhost:8080/"
        },
        "outputId": "7e1a089a-3a21-4c9a-b846-8375211728dc"
      },
      "source": [
        "SH_average=metrics.silhouette_score(wine1_normal,y_hc1)\n",
        "SH_average"
      ],
      "execution_count": 50,
      "outputs": [
        {
          "output_type": "execute_result",
          "data": {
            "text/plain": [
              "0.22945756295901437"
            ]
          },
          "metadata": {},
          "execution_count": 50
        }
      ]
    },
    {
      "cell_type": "code",
      "metadata": {
        "id": "V87vyZVuq1sc",
        "colab": {
          "base_uri": "https://localhost:8080/"
        },
        "outputId": "daa7b449-bce7-4655-caec-ed00937d3809"
      },
      "source": [
        "SH_Ward=metrics.silhouette_score(wine1_normal,y_hc2)\n",
        "SH_Ward"
      ],
      "execution_count": 51,
      "outputs": [
        {
          "output_type": "execute_result",
          "data": {
            "text/plain": [
              "0.19382526203175696"
            ]
          },
          "metadata": {},
          "execution_count": 51
        }
      ]
    },
    {
      "cell_type": "code",
      "metadata": {
        "id": "zd3ilmxwq1sd",
        "colab": {
          "base_uri": "https://localhost:8080/"
        },
        "outputId": "49c3840e-de51-4c06-8a68-2a8507e3fa50"
      },
      "source": [
        "SH_Complete=metrics.silhouette_score(wine1_normal,y_hc3)\n",
        "SH_Complete"
      ],
      "execution_count": 52,
      "outputs": [
        {
          "output_type": "execute_result",
          "data": {
            "text/plain": [
              "0.2774439826952265"
            ]
          },
          "metadata": {},
          "execution_count": 52
        }
      ]
    },
    {
      "cell_type": "code",
      "metadata": {
        "id": "oNBwFyChq1sd",
        "colab": {
          "base_uri": "https://localhost:8080/"
        },
        "outputId": "61063ca3-8eeb-4b42-ec52-90af00d5abda"
      },
      "source": [
        "SH_Single=metrics.silhouette_score(wine1_normal,y_hc4)\n",
        "SH_Single"
      ],
      "execution_count": 53,
      "outputs": [
        {
          "output_type": "execute_result",
          "data": {
            "text/plain": [
              "0.2224506072765093"
            ]
          },
          "metadata": {},
          "execution_count": 53
        }
      ]
    },
    {
      "cell_type": "code",
      "metadata": {
        "id": "tqQGs6Ghq1se",
        "colab": {
          "base_uri": "https://localhost:8080/"
        },
        "outputId": "ca011f3e-874f-4201-9406-92e6b7b56047"
      },
      "source": [
        "SH_Kmeans=metrics.silhouette_score(wine1_normal,KM_label)\n",
        "SH_Single"
      ],
      "execution_count": 54,
      "outputs": [
        {
          "output_type": "execute_result",
          "data": {
            "text/plain": [
              "0.2224506072765093"
            ]
          },
          "metadata": {},
          "execution_count": 54
        }
      ]
    },
    {
      "cell_type": "markdown",
      "metadata": {
        "id": "q9GOER8fq1se"
      },
      "source": [
        "# Now we perform the PCA on the normalized data"
      ]
    },
    {
      "cell_type": "code",
      "metadata": {
        "id": "tDtktLJ-q1sf"
      },
      "source": [
        "pca = PCA()\n",
        "pca_values = pca.fit_transform(wine1_normal)"
      ],
      "execution_count": 55,
      "outputs": []
    },
    {
      "cell_type": "code",
      "metadata": {
        "id": "GTgY1zHoq1si",
        "colab": {
          "base_uri": "https://localhost:8080/"
        },
        "outputId": "f9e802bc-7d96-4a8b-a2a3-73029aece089"
      },
      "source": [
        "pca_values"
      ],
      "execution_count": 56,
      "outputs": [
        {
          "output_type": "execute_result",
          "data": {
            "text/plain": [
              "array([[ 3.31675081e+00, -1.44346263e+00, -1.65739045e-01, ...,\n",
              "        -4.51563395e-01,  5.40810414e-01, -6.62386309e-02],\n",
              "       [ 2.20946492e+00,  3.33392887e-01, -2.02645737e+00, ...,\n",
              "        -1.42657306e-01,  3.88237741e-01,  3.63650247e-03],\n",
              "       [ 2.51674015e+00, -1.03115130e+00,  9.82818670e-01, ...,\n",
              "        -2.86672847e-01,  5.83573183e-04,  2.17165104e-02],\n",
              "       ...,\n",
              "       [-2.67783946e+00, -2.76089913e+00, -9.40941877e-01, ...,\n",
              "         5.12492025e-01,  6.98766451e-01,  7.20776948e-02],\n",
              "       [-2.38701709e+00, -2.29734668e+00, -5.50696197e-01, ...,\n",
              "         2.99821968e-01,  3.39820654e-01, -2.18657605e-02],\n",
              "       [-3.20875816e+00, -2.76891957e+00,  1.01391366e+00, ...,\n",
              "        -2.29964331e-01, -1.88787963e-01, -3.23964720e-01]])"
            ]
          },
          "metadata": {},
          "execution_count": 56
        }
      ]
    },
    {
      "cell_type": "code",
      "metadata": {
        "id": "BLNVU_jeq1sj"
      },
      "source": [
        "pca = PCA(n_components = 13)\n",
        "pca_values = pca.fit_transform(wine1_normal)"
      ],
      "execution_count": 57,
      "outputs": []
    },
    {
      "cell_type": "code",
      "metadata": {
        "id": "OyAsmPUFq1sj",
        "colab": {
          "base_uri": "https://localhost:8080/"
        },
        "outputId": "8588bf97-0f9e-4c85-cf66-bbc93e95c31e"
      },
      "source": [
        "# The amount of variance that each PCA explains is \n",
        "var = pca.explained_variance_ratio_\n",
        "var"
      ],
      "execution_count": 58,
      "outputs": [
        {
          "output_type": "execute_result",
          "data": {
            "text/plain": [
              "array([0.36198848, 0.1920749 , 0.11123631, 0.0706903 , 0.06563294,\n",
              "       0.04935823, 0.04238679, 0.02680749, 0.02222153, 0.01930019,\n",
              "       0.01736836, 0.01298233, 0.00795215])"
            ]
          },
          "metadata": {},
          "execution_count": 58
        }
      ]
    },
    {
      "cell_type": "code",
      "metadata": {
        "id": "XoBIZKmZq1sj",
        "colab": {
          "base_uri": "https://localhost:8080/"
        },
        "outputId": "efadbef0-32f5-48aa-d917-c49e64e34203"
      },
      "source": [
        "# Cumulative variance \n",
        "var1 = np.cumsum(np.round(var,decimals = 4)*100)\n",
        "var1"
      ],
      "execution_count": 59,
      "outputs": [
        {
          "output_type": "execute_result",
          "data": {
            "text/plain": [
              "array([ 36.2 ,  55.41,  66.53,  73.6 ,  80.16,  85.1 ,  89.34,  92.02,\n",
              "        94.24,  96.17,  97.91,  99.21, 100.01])"
            ]
          },
          "metadata": {},
          "execution_count": 59
        }
      ]
    },
    {
      "cell_type": "code",
      "metadata": {
        "id": "nuFyWl8gq1sk",
        "colab": {
          "base_uri": "https://localhost:8080/"
        },
        "outputId": "07952c2c-695c-4e47-df1d-a389027dd732"
      },
      "source": [
        "pca.components_"
      ],
      "execution_count": 60,
      "outputs": [
        {
          "output_type": "execute_result",
          "data": {
            "text/plain": [
              "array([[ 0.1443294 , -0.24518758, -0.00205106, -0.23932041,  0.14199204,\n",
              "         0.39466085,  0.4229343 , -0.2985331 ,  0.31342949, -0.0886167 ,\n",
              "         0.29671456,  0.37616741,  0.28675223],\n",
              "       [-0.48365155, -0.22493093, -0.31606881,  0.0105905 , -0.299634  ,\n",
              "        -0.06503951,  0.00335981, -0.02877949, -0.03930172, -0.52999567,\n",
              "         0.27923515,  0.16449619, -0.36490283],\n",
              "       [-0.20738262,  0.08901289,  0.6262239 ,  0.61208035,  0.13075693,\n",
              "         0.14617896,  0.1506819 ,  0.17036816,  0.14945431, -0.13730621,\n",
              "         0.08522192,  0.16600459, -0.12674592],\n",
              "       [-0.0178563 ,  0.53689028, -0.21417556,  0.06085941, -0.35179658,\n",
              "         0.19806835,  0.15229479, -0.20330102,  0.39905653,  0.06592568,\n",
              "        -0.42777141,  0.18412074, -0.23207086],\n",
              "       [-0.26566365,  0.03521363, -0.14302547,  0.06610294,  0.72704851,\n",
              "        -0.14931841, -0.10902584, -0.50070298,  0.13685982, -0.07643678,\n",
              "        -0.17361452, -0.10116099, -0.1578688 ],\n",
              "       [-0.21353865, -0.53681385, -0.15447466,  0.10082451, -0.03814394,\n",
              "         0.0841223 ,  0.01892002,  0.25859401,  0.53379539,  0.41864414,\n",
              "        -0.10598274, -0.26585107, -0.11972557],\n",
              "       [-0.05639636,  0.42052391, -0.14917061, -0.28696914,  0.3228833 ,\n",
              "        -0.02792498, -0.06068521,  0.59544729,  0.37213935, -0.22771214,\n",
              "         0.23207564, -0.0447637 ,  0.0768045 ],\n",
              "       [-0.39613926, -0.06582674,  0.17026002, -0.42797018,  0.15636143,\n",
              "         0.40593409,  0.18724536,  0.23328465, -0.36822675,  0.03379692,\n",
              "        -0.43662362,  0.07810789, -0.12002267],\n",
              "       [ 0.50861912, -0.07528304, -0.30769445,  0.20044931,  0.27140257,\n",
              "         0.28603452,  0.04957849,  0.19550132, -0.20914487,  0.05621752,\n",
              "         0.08582839,  0.1372269 , -0.57578611],\n",
              "       [ 0.21160473, -0.30907994, -0.02712539,  0.05279942,  0.06787022,\n",
              "        -0.32013135, -0.16315051,  0.21553507,  0.1341839 , -0.29077518,\n",
              "        -0.52239889,  0.52370587,  0.162116  ],\n",
              "       [-0.22591696,  0.07648554, -0.49869142,  0.47931378,  0.07128891,\n",
              "         0.30434119, -0.02569409,  0.11689586, -0.23736257,  0.0318388 ,\n",
              "        -0.04821201,  0.0464233 ,  0.53926983],\n",
              "       [-0.26628645,  0.12169604, -0.04962237, -0.05574287,  0.06222011,\n",
              "        -0.30388245, -0.04289883,  0.04235219, -0.09555303,  0.60422163,\n",
              "         0.259214  ,  0.60095872, -0.07940162],\n",
              "       [ 0.01496997,  0.02596375, -0.14121803,  0.09168285,  0.05677422,\n",
              "        -0.46390791,  0.83225706,  0.11403985, -0.11691707, -0.0119928 ,\n",
              "        -0.08988884, -0.15671813,  0.01444734]])"
            ]
          },
          "metadata": {},
          "execution_count": 60
        }
      ]
    },
    {
      "cell_type": "code",
      "metadata": {
        "id": "UuVqcbTdq1sk",
        "colab": {
          "base_uri": "https://localhost:8080/",
          "height": 282
        },
        "outputId": "1375467b-59fd-400f-dbb4-43cd9cd9fc7d"
      },
      "source": [
        "# Variance plot for PCA components obtained \n",
        "plt.plot(var1,color=\"red\")"
      ],
      "execution_count": 61,
      "outputs": [
        {
          "output_type": "execute_result",
          "data": {
            "text/plain": [
              "[<matplotlib.lines.Line2D at 0x7f713b7f6810>]"
            ]
          },
          "metadata": {},
          "execution_count": 61
        },
        {
          "output_type": "display_data",
          "data": {
            "image/png": "[encoded data removed]",
            "text/plain": [
              "<Figure size 432x288 with 1 Axes>"
            ]
          },
          "metadata": {
            "needs_background": "light"
          }
        }
      ]
    },
    {
      "cell_type": "code",
      "metadata": {
        "id": "I-iwMQM8q1sl"
      },
      "source": [
        "# we will take 3 PCs\n",
        "wine_pca=pca_values[:,0:3]"
      ],
      "execution_count": 64,
      "outputs": []
    },
    {
      "cell_type": "markdown",
      "metadata": {
        "id": "L_JZReGGq1sl"
      },
      "source": [
        "## Now we will make the cluster by using first 3 PCs"
      ]
    },
    {
      "cell_type": "markdown",
      "metadata": {
        "id": "yI0tJerRq1sm"
      },
      "source": [
        "\n",
        "\n",
        "```\n",
        "# This is formatted as code\n",
        "```\n",
        "\n",
        "### Applying centroid(ward) linkage method "
      ]
    },
    {
      "cell_type": "code",
      "metadata": {
        "id": "csS4HSF-q1sm",
        "colab": {
          "base_uri": "https://localhost:8080/",
          "height": 626
        },
        "outputId": "a7553f4a-2c79-402d-e5fc-a7de0609f6f8"
      },
      "source": [
        "fig=plt.figure(figsize=(16,10))\n",
        "dendrogram = sch.dendrogram(sch.linkage(wine_pca, method='ward'))\n",
        "plt.title(\"Dendrogram\",size=15)"
      ],
      "execution_count": 65,
      "outputs": [
        {
          "output_type": "execute_result",
          "data": {
            "text/plain": [
              "Text(0.5, 1.0, 'Dendrogram')"
            ]
          },
          "metadata": {},
          "execution_count": 65
        },
        {
          "output_type": "display_data",
          "data": {
            "image/png": "[encoded data removed]",
            "text/plain": [
              "<Figure size 1152x720 with 1 Axes>"
            ]
          },
          "metadata": {
            "needs_background": "light"
          }
        }
      ]
    },
    {
      "cell_type": "code",
      "metadata": {
        "id": "FIEZEfQeq1sm"
      },
      "source": [
        "hc1p = AgglomerativeClustering(n_clusters=3, affinity = 'euclidean', linkage = 'ward')"
      ],
      "execution_count": 66,
      "outputs": []
    },
    {
      "cell_type": "code",
      "metadata": {
        "id": "_V6nlcxkq1sn"
      },
      "source": [
        "y_hc1p = hc1p.fit_predict(wine_pca)\n",
        "Clusters=pd.DataFrame(y_hc1p,columns=['Clusters'])"
      ],
      "execution_count": 67,
      "outputs": []
    },
    {
      "cell_type": "code",
      "metadata": {
        "id": "e_XAVZamq1so"
      },
      "source": [
        "wine['cluster'] = y_hc1p"
      ],
      "execution_count": 68,
      "outputs": []
    },
    {
      "cell_type": "code",
      "metadata": {
        "id": "Jw24j5_Tq1so",
        "colab": {
          "base_uri": "https://localhost:8080/",
          "height": 193
        },
        "outputId": "c6a0b193-a594-43c7-d5cd-3178e195d6af"
      },
      "source": [
        "wine.groupby('cluster').agg(['mean']).reset_index()"
      ],
      "execution_count": 69,
      "outputs": [
        {
          "output_type": "execute_result",
          "data": {
            "text/html": [
              "<div>\n",
              "<style scoped>\n",
              "    .dataframe tbody tr th:only-of-type {\n",
              "        vertical-align: middle;\n",
              "    }\n",
              "\n",
              "    .dataframe tbody tr th {\n",
              "        vertical-align: top;\n",
              "    }\n",
              "\n",
              "    .dataframe thead tr th {\n",
              "        text-align: left;\n",
              "    }\n",
              "</style>\n",
              "<table border=\"1\" class=\"dataframe\">\n",
              "  <thead>\n",
              "    <tr>\n",
              "      <th></th>\n",
              "      <th>cluster</th>\n",
              "      <th>Type</th>\n",
              "      <th>Alcohol</th>\n",
              "      <th>Malic</th>\n",
              "      <th>Ash</th>\n",
              "      <th>Alcalinity</th>\n",
              "      <th>Magnesium</th>\n",
              "      <th>Phenols</th>\n",
              "      <th>Flavanoids</th>\n",
              "      <th>Nonflavanoids</th>\n",
              "      <th>Proanthocyanins</th>\n",
              "      <th>Color</th>\n",
              "      <th>Hue</th>\n",
              "      <th>Dilution</th>\n",
              "      <th>Proline</th>\n",
              "    </tr>\n",
              "    <tr>\n",
              "      <th></th>\n",
              "      <th></th>\n",
              "      <th>mean</th>\n",
              "      <th>mean</th>\n",
              "      <th>mean</th>\n",
              "      <th>mean</th>\n",
              "      <th>mean</th>\n",
              "      <th>mean</th>\n",
              "      <th>mean</th>\n",
              "      <th>mean</th>\n",
              "      <th>mean</th>\n",
              "      <th>mean</th>\n",
              "      <th>mean</th>\n",
              "      <th>mean</th>\n",
              "      <th>mean</th>\n",
              "      <th>mean</th>\n",
              "    </tr>\n",
              "  </thead>\n",
              "  <tbody>\n",
              "    <tr>\n",
              "      <th>0</th>\n",
              "      <td>0</td>\n",
              "      <td>2.030303</td>\n",
              "      <td>12.264242</td>\n",
              "      <td>1.932121</td>\n",
              "      <td>2.245455</td>\n",
              "      <td>20.087879</td>\n",
              "      <td>91.666667</td>\n",
              "      <td>2.220152</td>\n",
              "      <td>1.991364</td>\n",
              "      <td>0.367727</td>\n",
              "      <td>1.540455</td>\n",
              "      <td>3.036364</td>\n",
              "      <td>1.042515</td>\n",
              "      <td>2.729848</td>\n",
              "      <td>504.439394</td>\n",
              "    </tr>\n",
              "    <tr>\n",
              "      <th>1</th>\n",
              "      <td>1</td>\n",
              "      <td>2.978723</td>\n",
              "      <td>13.171489</td>\n",
              "      <td>3.431702</td>\n",
              "      <td>2.441064</td>\n",
              "      <td>21.595745</td>\n",
              "      <td>98.829787</td>\n",
              "      <td>1.674894</td>\n",
              "      <td>0.792979</td>\n",
              "      <td>0.452766</td>\n",
              "      <td>1.165957</td>\n",
              "      <td>7.452553</td>\n",
              "      <td>0.682979</td>\n",
              "      <td>1.702553</td>\n",
              "      <td>627.021277</td>\n",
              "    </tr>\n",
              "    <tr>\n",
              "      <th>2</th>\n",
              "      <td>2</td>\n",
              "      <td>1.092308</td>\n",
              "      <td>13.624769</td>\n",
              "      <td>1.954769</td>\n",
              "      <td>2.435538</td>\n",
              "      <td>17.373846</td>\n",
              "      <td>108.600000</td>\n",
              "      <td>2.819692</td>\n",
              "      <td>2.961692</td>\n",
              "      <td>0.290154</td>\n",
              "      <td>1.949385</td>\n",
              "      <td>5.379538</td>\n",
              "      <td>1.069538</td>\n",
              "      <td>3.149077</td>\n",
              "      <td>1079.753846</td>\n",
              "    </tr>\n",
              "  </tbody>\n",
              "</table>\n",
              "</div>"
            ],
            "text/plain": [
              "  cluster      Type    Alcohol  ...       Hue  Dilution      Proline\n",
              "               mean       mean  ...      mean      mean         mean\n",
              "0       0  2.030303  12.264242  ...  1.042515  2.729848   504.439394\n",
              "1       1  2.978723  13.171489  ...  0.682979  1.702553   627.021277\n",
              "2       2  1.092308  13.624769  ...  1.069538  3.149077  1079.753846\n",
              "\n",
              "[3 rows x 15 columns]"
            ]
          },
          "metadata": {},
          "execution_count": 69
        }
      ]
    },
    {
      "cell_type": "code",
      "metadata": {
        "id": "G8lCidZaq1sp",
        "colab": {
          "base_uri": "https://localhost:8080/"
        },
        "outputId": "4f19f6c0-a025-476e-cbfd-6fa146d5c8da"
      },
      "source": [
        "for i in range(3):\n",
        "    print(\"cluster\", i)\n",
        "   # print(\"The Members:\",(list(airlines[airlines['cluster'] == i]['ID#'].values)))\n",
        "    print(\"Total Members:\", len(list(wine[wine['cluster'] == i]['Type'].values)))\n",
        "    print()"
      ],
      "execution_count": 70,
      "outputs": [
        {
          "output_type": "stream",
          "name": "stdout",
          "text": [
            "cluster 0\n",
            "Total Members: 66\n",
            "\n",
            "cluster 1\n",
            "Total Members: 47\n",
            "\n",
            "cluster 2\n",
            "Total Members: 65\n",
            "\n"
          ]
        }
      ]
    },
    {
      "cell_type": "markdown",
      "metadata": {
        "id": "i1CAyC6dq1sp"
      },
      "source": [
        "### Applying average linkage method"
      ]
    },
    {
      "cell_type": "code",
      "metadata": {
        "id": "vrV9F6pNq1sq",
        "colab": {
          "base_uri": "https://localhost:8080/",
          "height": 626
        },
        "outputId": "1f4729e0-0298-43f8-ab97-6c56e48fbed3"
      },
      "source": [
        "fig=plt.figure(figsize=(16,10))\n",
        "dendrogram = sch.dendrogram(sch.linkage(wine_pca, method='average'))\n",
        "plt.title(\"Dendrogram\",size=15)"
      ],
      "execution_count": 71,
      "outputs": [
        {
          "output_type": "execute_result",
          "data": {
            "text/plain": [
              "Text(0.5, 1.0, 'Dendrogram')"
            ]
          },
          "metadata": {},
          "execution_count": 71
        },
        {
          "output_type": "display_data",
          "data": {
            "image/png": "[encoded data removed]",
            "text/plain": [
              "<Figure size 1152x720 with 1 Axes>"
            ]
          },
          "metadata": {
            "needs_background": "light"
          }
        }
      ]
    },
    {
      "cell_type": "code",
      "metadata": {
        "id": "H074GQ87q1sq"
      },
      "source": [
        "hc2p = AgglomerativeClustering(n_clusters=5, affinity = 'euclidean', linkage = 'average')"
      ],
      "execution_count": 72,
      "outputs": []
    },
    {
      "cell_type": "code",
      "metadata": {
        "id": "RahWLln0q1sq"
      },
      "source": [
        "y_hc2p = hc2p.fit_predict(wine_pca)\n",
        "Clusters=pd.DataFrame(y_hc2p,columns=['Clusters'])"
      ],
      "execution_count": 73,
      "outputs": []
    },
    {
      "cell_type": "code",
      "metadata": {
        "id": "2G_CmjWHq1sr"
      },
      "source": [
        "wine['cluster'] = y_hc2p"
      ],
      "execution_count": 74,
      "outputs": []
    },
    {
      "cell_type": "code",
      "metadata": {
        "id": "AwwdXwbMq1sr",
        "colab": {
          "base_uri": "https://localhost:8080/",
          "height": 255
        },
        "outputId": "b9df0410-2886-443c-f19d-d155645b1ec8"
      },
      "source": [
        "wine.groupby('cluster').agg(['mean']).reset_index()"
      ],
      "execution_count": 75,
      "outputs": [
        {
          "output_type": "execute_result",
          "data": {
            "text/html": [
              "<div>\n",
              "<style scoped>\n",
              "    .dataframe tbody tr th:only-of-type {\n",
              "        vertical-align: middle;\n",
              "    }\n",
              "\n",
              "    .dataframe tbody tr th {\n",
              "        vertical-align: top;\n",
              "    }\n",
              "\n",
              "    .dataframe thead tr th {\n",
              "        text-align: left;\n",
              "    }\n",
              "</style>\n",
              "<table border=\"1\" class=\"dataframe\">\n",
              "  <thead>\n",
              "    <tr>\n",
              "      <th></th>\n",
              "      <th>cluster</th>\n",
              "      <th>Type</th>\n",
              "      <th>Alcohol</th>\n",
              "      <th>Malic</th>\n",
              "      <th>Ash</th>\n",
              "      <th>Alcalinity</th>\n",
              "      <th>Magnesium</th>\n",
              "      <th>Phenols</th>\n",
              "      <th>Flavanoids</th>\n",
              "      <th>Nonflavanoids</th>\n",
              "      <th>Proanthocyanins</th>\n",
              "      <th>Color</th>\n",
              "      <th>Hue</th>\n",
              "      <th>Dilution</th>\n",
              "      <th>Proline</th>\n",
              "    </tr>\n",
              "    <tr>\n",
              "      <th></th>\n",
              "      <th></th>\n",
              "      <th>mean</th>\n",
              "      <th>mean</th>\n",
              "      <th>mean</th>\n",
              "      <th>mean</th>\n",
              "      <th>mean</th>\n",
              "      <th>mean</th>\n",
              "      <th>mean</th>\n",
              "      <th>mean</th>\n",
              "      <th>mean</th>\n",
              "      <th>mean</th>\n",
              "      <th>mean</th>\n",
              "      <th>mean</th>\n",
              "      <th>mean</th>\n",
              "      <th>mean</th>\n",
              "    </tr>\n",
              "  </thead>\n",
              "  <tbody>\n",
              "    <tr>\n",
              "      <th>0</th>\n",
              "      <td>0</td>\n",
              "      <td>2.000000</td>\n",
              "      <td>12.215833</td>\n",
              "      <td>1.971000</td>\n",
              "      <td>2.265167</td>\n",
              "      <td>20.498333</td>\n",
              "      <td>91.083333</td>\n",
              "      <td>2.247667</td>\n",
              "      <td>2.084500</td>\n",
              "      <td>0.361167</td>\n",
              "      <td>1.619833</td>\n",
              "      <td>2.943000</td>\n",
              "      <td>1.059100</td>\n",
              "      <td>2.831833</td>\n",
              "      <td>498.683333</td>\n",
              "    </tr>\n",
              "    <tr>\n",
              "      <th>1</th>\n",
              "      <td>1</td>\n",
              "      <td>1.065574</td>\n",
              "      <td>13.684754</td>\n",
              "      <td>1.945902</td>\n",
              "      <td>2.399836</td>\n",
              "      <td>16.800000</td>\n",
              "      <td>107.524590</td>\n",
              "      <td>2.809344</td>\n",
              "      <td>2.937213</td>\n",
              "      <td>0.283934</td>\n",
              "      <td>1.953115</td>\n",
              "      <td>5.449508</td>\n",
              "      <td>1.067377</td>\n",
              "      <td>3.137213</td>\n",
              "      <td>1101.131148</td>\n",
              "    </tr>\n",
              "    <tr>\n",
              "      <th>2</th>\n",
              "      <td>2</td>\n",
              "      <td>2.923077</td>\n",
              "      <td>13.138077</td>\n",
              "      <td>3.261731</td>\n",
              "      <td>2.416538</td>\n",
              "      <td>21.159615</td>\n",
              "      <td>98.884615</td>\n",
              "      <td>1.700192</td>\n",
              "      <td>0.828077</td>\n",
              "      <td>0.453846</td>\n",
              "      <td>1.131923</td>\n",
              "      <td>7.156538</td>\n",
              "      <td>0.698269</td>\n",
              "      <td>1.701154</td>\n",
              "      <td>621.576923</td>\n",
              "    </tr>\n",
              "    <tr>\n",
              "      <th>3</th>\n",
              "      <td>3</td>\n",
              "      <td>2.000000</td>\n",
              "      <td>12.370000</td>\n",
              "      <td>0.940000</td>\n",
              "      <td>1.360000</td>\n",
              "      <td>10.600000</td>\n",
              "      <td>88.000000</td>\n",
              "      <td>1.980000</td>\n",
              "      <td>0.570000</td>\n",
              "      <td>0.280000</td>\n",
              "      <td>0.420000</td>\n",
              "      <td>1.950000</td>\n",
              "      <td>1.050000</td>\n",
              "      <td>1.820000</td>\n",
              "      <td>520.000000</td>\n",
              "    </tr>\n",
              "    <tr>\n",
              "      <th>4</th>\n",
              "      <td>4</td>\n",
              "      <td>1.500000</td>\n",
              "      <td>12.710000</td>\n",
              "      <td>2.090000</td>\n",
              "      <td>2.980000</td>\n",
              "      <td>26.125000</td>\n",
              "      <td>125.000000</td>\n",
              "      <td>2.977500</td>\n",
              "      <td>3.335000</td>\n",
              "      <td>0.385000</td>\n",
              "      <td>1.892500</td>\n",
              "      <td>4.312500</td>\n",
              "      <td>1.102500</td>\n",
              "      <td>3.330000</td>\n",
              "      <td>753.750000</td>\n",
              "    </tr>\n",
              "  </tbody>\n",
              "</table>\n",
              "</div>"
            ],
            "text/plain": [
              "  cluster      Type    Alcohol  ...       Hue  Dilution      Proline\n",
              "               mean       mean  ...      mean      mean         mean\n",
              "0       0  2.000000  12.215833  ...  1.059100  2.831833   498.683333\n",
              "1       1  1.065574  13.684754  ...  1.067377  3.137213  1101.131148\n",
              "2       2  2.923077  13.138077  ...  0.698269  1.701154   621.576923\n",
              "3       3  2.000000  12.370000  ...  1.050000  1.820000   520.000000\n",
              "4       4  1.500000  12.710000  ...  1.102500  3.330000   753.750000\n",
              "\n",
              "[5 rows x 15 columns]"
            ]
          },
          "metadata": {},
          "execution_count": 75
        }
      ]
    },
    {
      "cell_type": "code",
      "metadata": {
        "id": "KcgwX5-Rq1ss",
        "colab": {
          "base_uri": "https://localhost:8080/"
        },
        "outputId": "6957ae8f-517c-48e0-a2a4-46b4f2e59614"
      },
      "source": [
        "for i in range(5):\n",
        "    print(\"cluster\", i)\n",
        "   # print(\"The Members:\",(list(airlines[airlines['cluster'] == i]['ID#'].values)))\n",
        "    print(\"Total Members:\", len(list(wine[wine['cluster'] == i]['Type'].values)))\n",
        "    print()"
      ],
      "execution_count": 76,
      "outputs": [
        {
          "output_type": "stream",
          "name": "stdout",
          "text": [
            "cluster 0\n",
            "Total Members: 60\n",
            "\n",
            "cluster 1\n",
            "Total Members: 61\n",
            "\n",
            "cluster 2\n",
            "Total Members: 52\n",
            "\n",
            "cluster 3\n",
            "Total Members: 1\n",
            "\n",
            "cluster 4\n",
            "Total Members: 4\n",
            "\n"
          ]
        }
      ]
    },
    {
      "cell_type": "markdown",
      "metadata": {
        "id": "WpAm6uqLq1ss"
      },
      "source": [
        "### Applying complete linkage method"
      ]
    },
    {
      "cell_type": "code",
      "metadata": {
        "id": "cqPNUqnZq1ss",
        "colab": {
          "base_uri": "https://localhost:8080/",
          "height": 626
        },
        "outputId": "073689d2-20c0-4aa4-f929-46e3b7b28e79"
      },
      "source": [
        "fig=plt.figure(figsize=(16,10))\n",
        "dendrogram = sch.dendrogram(sch.linkage(wine_pca, method='complete'))\n",
        "plt.title(\"Dendrogram\",size=15)"
      ],
      "execution_count": 77,
      "outputs": [
        {
          "output_type": "execute_result",
          "data": {
            "text/plain": [
              "Text(0.5, 1.0, 'Dendrogram')"
            ]
          },
          "metadata": {},
          "execution_count": 77
        },
        {
          "output_type": "display_data",
          "data": {
            "image/png": "[encoded data removed]",
            "text/plain": [
              "<Figure size 1152x720 with 1 Axes>"
            ]
          },
          "metadata": {
            "needs_background": "light"
          }
        }
      ]
    },
    {
      "cell_type": "code",
      "metadata": {
        "id": "DfgIiz8nq1st"
      },
      "source": [
        "hc3p = AgglomerativeClustering(n_clusters=4, affinity = 'euclidean', linkage = 'complete')"
      ],
      "execution_count": 78,
      "outputs": []
    },
    {
      "cell_type": "code",
      "metadata": {
        "id": "pPmtAGZcq1st"
      },
      "source": [
        "y_hc3p = hc3p.fit_predict(wine_pca)\n",
        "Clusters=pd.DataFrame(y_hc3p,columns=['Clusters'])"
      ],
      "execution_count": 79,
      "outputs": []
    },
    {
      "cell_type": "code",
      "metadata": {
        "id": "ks_LxikZq1su"
      },
      "source": [
        "wine['cluster'] = y_hc3p"
      ],
      "execution_count": 80,
      "outputs": []
    },
    {
      "cell_type": "code",
      "metadata": {
        "id": "PLPiKBgXq1su",
        "colab": {
          "base_uri": "https://localhost:8080/",
          "height": 224
        },
        "outputId": "39358389-d8df-4bb2-99ec-a59f2dd85c36"
      },
      "source": [
        "wine.groupby('cluster').agg(['mean']).reset_index()"
      ],
      "execution_count": 81,
      "outputs": [
        {
          "output_type": "execute_result",
          "data": {
            "text/html": [
              "<div>\n",
              "<style scoped>\n",
              "    .dataframe tbody tr th:only-of-type {\n",
              "        vertical-align: middle;\n",
              "    }\n",
              "\n",
              "    .dataframe tbody tr th {\n",
              "        vertical-align: top;\n",
              "    }\n",
              "\n",
              "    .dataframe thead tr th {\n",
              "        text-align: left;\n",
              "    }\n",
              "</style>\n",
              "<table border=\"1\" class=\"dataframe\">\n",
              "  <thead>\n",
              "    <tr>\n",
              "      <th></th>\n",
              "      <th>cluster</th>\n",
              "      <th>Type</th>\n",
              "      <th>Alcohol</th>\n",
              "      <th>Malic</th>\n",
              "      <th>Ash</th>\n",
              "      <th>Alcalinity</th>\n",
              "      <th>Magnesium</th>\n",
              "      <th>Phenols</th>\n",
              "      <th>Flavanoids</th>\n",
              "      <th>Nonflavanoids</th>\n",
              "      <th>Proanthocyanins</th>\n",
              "      <th>Color</th>\n",
              "      <th>Hue</th>\n",
              "      <th>Dilution</th>\n",
              "      <th>Proline</th>\n",
              "    </tr>\n",
              "    <tr>\n",
              "      <th></th>\n",
              "      <th></th>\n",
              "      <th>mean</th>\n",
              "      <th>mean</th>\n",
              "      <th>mean</th>\n",
              "      <th>mean</th>\n",
              "      <th>mean</th>\n",
              "      <th>mean</th>\n",
              "      <th>mean</th>\n",
              "      <th>mean</th>\n",
              "      <th>mean</th>\n",
              "      <th>mean</th>\n",
              "      <th>mean</th>\n",
              "      <th>mean</th>\n",
              "      <th>mean</th>\n",
              "      <th>mean</th>\n",
              "    </tr>\n",
              "  </thead>\n",
              "  <tbody>\n",
              "    <tr>\n",
              "      <th>0</th>\n",
              "      <td>0</td>\n",
              "      <td>1.964286</td>\n",
              "      <td>12.193929</td>\n",
              "      <td>2.023571</td>\n",
              "      <td>2.449286</td>\n",
              "      <td>22.453571</td>\n",
              "      <td>94.321429</td>\n",
              "      <td>2.129643</td>\n",
              "      <td>2.066786</td>\n",
              "      <td>0.422857</td>\n",
              "      <td>1.504643</td>\n",
              "      <td>2.934643</td>\n",
              "      <td>1.050000</td>\n",
              "      <td>2.814643</td>\n",
              "      <td>503.571429</td>\n",
              "    </tr>\n",
              "    <tr>\n",
              "      <th>1</th>\n",
              "      <td>1</td>\n",
              "      <td>2.940000</td>\n",
              "      <td>13.115600</td>\n",
              "      <td>3.381800</td>\n",
              "      <td>2.449800</td>\n",
              "      <td>21.750000</td>\n",
              "      <td>98.480000</td>\n",
              "      <td>1.701000</td>\n",
              "      <td>0.844400</td>\n",
              "      <td>0.457800</td>\n",
              "      <td>1.190400</td>\n",
              "      <td>7.216000</td>\n",
              "      <td>0.694800</td>\n",
              "      <td>1.741800</td>\n",
              "      <td>619.020000</td>\n",
              "    </tr>\n",
              "    <tr>\n",
              "      <th>2</th>\n",
              "      <td>2</td>\n",
              "      <td>2.045455</td>\n",
              "      <td>12.429091</td>\n",
              "      <td>1.612727</td>\n",
              "      <td>1.984545</td>\n",
              "      <td>17.918182</td>\n",
              "      <td>91.772727</td>\n",
              "      <td>2.021818</td>\n",
              "      <td>1.668636</td>\n",
              "      <td>0.349545</td>\n",
              "      <td>1.211818</td>\n",
              "      <td>3.138636</td>\n",
              "      <td>1.044364</td>\n",
              "      <td>2.534091</td>\n",
              "      <td>522.863636</td>\n",
              "    </tr>\n",
              "    <tr>\n",
              "      <th>3</th>\n",
              "      <td>3</td>\n",
              "      <td>1.256410</td>\n",
              "      <td>13.377692</td>\n",
              "      <td>1.982564</td>\n",
              "      <td>2.391154</td>\n",
              "      <td>17.432051</td>\n",
              "      <td>104.743590</td>\n",
              "      <td>2.812436</td>\n",
              "      <td>2.877051</td>\n",
              "      <td>0.281923</td>\n",
              "      <td>1.985513</td>\n",
              "      <td>4.978462</td>\n",
              "      <td>1.068077</td>\n",
              "      <td>3.118333</td>\n",
              "      <td>979.397436</td>\n",
              "    </tr>\n",
              "  </tbody>\n",
              "</table>\n",
              "</div>"
            ],
            "text/plain": [
              "  cluster      Type    Alcohol  ...       Hue  Dilution     Proline\n",
              "               mean       mean  ...      mean      mean        mean\n",
              "0       0  1.964286  12.193929  ...  1.050000  2.814643  503.571429\n",
              "1       1  2.940000  13.115600  ...  0.694800  1.741800  619.020000\n",
              "2       2  2.045455  12.429091  ...  1.044364  2.534091  522.863636\n",
              "3       3  1.256410  13.377692  ...  1.068077  3.118333  979.397436\n",
              "\n",
              "[4 rows x 15 columns]"
            ]
          },
          "metadata": {},
          "execution_count": 81
        }
      ]
    },
    {
      "cell_type": "code",
      "metadata": {
        "id": "Zhknjk7Wq1su",
        "colab": {
          "base_uri": "https://localhost:8080/"
        },
        "outputId": "53b2b725-9fb2-4e0d-85d8-64a8e30f5870"
      },
      "source": [
        "for i in range(4):\n",
        "    print(\"cluster\", i)\n",
        "   # print(\"The Members:\",(list(airlines[airlines['cluster'] == i]['ID#'].values)))\n",
        "    print(\"Total Members:\", len(list(wine[wine['cluster'] == i]['Type'].values)))\n",
        "    print()"
      ],
      "execution_count": 82,
      "outputs": [
        {
          "output_type": "stream",
          "name": "stdout",
          "text": [
            "cluster 0\n",
            "Total Members: 28\n",
            "\n",
            "cluster 1\n",
            "Total Members: 50\n",
            "\n",
            "cluster 2\n",
            "Total Members: 22\n",
            "\n",
            "cluster 3\n",
            "Total Members: 78\n",
            "\n"
          ]
        }
      ]
    },
    {
      "cell_type": "markdown",
      "metadata": {
        "id": "FH7MfRLeq1sv"
      },
      "source": [
        "### Applying single linkage method"
      ]
    },
    {
      "cell_type": "code",
      "metadata": {
        "id": "07378xt-q1sv",
        "colab": {
          "base_uri": "https://localhost:8080/",
          "height": 626
        },
        "outputId": "457a8d53-cd30-41db-f063-43f5f22e893d"
      },
      "source": [
        "fig=plt.figure(figsize=(16,10))\n",
        "dendrogram = sch.dendrogram(sch.linkage(wine_pca, method='single'))\n",
        "plt.title(\"Dendrogram\",size=15)"
      ],
      "execution_count": 83,
      "outputs": [
        {
          "output_type": "execute_result",
          "data": {
            "text/plain": [
              "Text(0.5, 1.0, 'Dendrogram')"
            ]
          },
          "metadata": {},
          "execution_count": 83
        },
        {
          "output_type": "display_data",
          "data": {
            "image/png": "[encoded data removed]",
            "text/plain": [
              "<Figure size 1152x720 with 1 Axes>"
            ]
          },
          "metadata": {
            "needs_background": "light"
          }
        }
      ]
    },
    {
      "cell_type": "code",
      "metadata": {
        "id": "WChnaa9Iq1sw"
      },
      "source": [
        "hc4p = AgglomerativeClustering(n_clusters=2, affinity = 'euclidean', linkage = 'single')"
      ],
      "execution_count": 84,
      "outputs": []
    },
    {
      "cell_type": "code",
      "metadata": {
        "id": "2GYCrSHRq1sw"
      },
      "source": [
        "y_hc4p = hc4p.fit_predict(wine_pca)\n",
        "Clusters=pd.DataFrame(y_hc4p,columns=['Clusters'])"
      ],
      "execution_count": 85,
      "outputs": []
    },
    {
      "cell_type": "code",
      "metadata": {
        "id": "nlOnnFIRq1sx"
      },
      "source": [
        "wine['cluster'] = y_hc4p"
      ],
      "execution_count": 86,
      "outputs": []
    },
    {
      "cell_type": "code",
      "metadata": {
        "id": "fn0OjnaUq1sx",
        "colab": {
          "base_uri": "https://localhost:8080/"
        },
        "outputId": "ca9cef24-ec78-4838-88e6-3bf2ae01cb00"
      },
      "source": [
        "for i in range(2):\n",
        "    print(\"cluster\", i)\n",
        "   # print(\"The Members:\",(list(airlines[airlines['cluster'] == i]['ID#'].values)))\n",
        "    print(\"Total Members:\", len(list(wine[wine['cluster'] == i]['Type'].values)))\n",
        "    print()"
      ],
      "execution_count": 87,
      "outputs": [
        {
          "output_type": "stream",
          "name": "stdout",
          "text": [
            "cluster 0\n",
            "Total Members: 177\n",
            "\n",
            "cluster 1\n",
            "Total Members: 1\n",
            "\n"
          ]
        }
      ]
    },
    {
      "cell_type": "markdown",
      "metadata": {
        "id": "lzzFZ1LUq1sy"
      },
      "source": [
        "### Applying K means clustering"
      ]
    },
    {
      "cell_type": "code",
      "metadata": {
        "id": "ItaseZQZq1sz",
        "colab": {
          "base_uri": "https://localhost:8080/",
          "height": 295
        },
        "outputId": "364f2b16-db89-4a51-c329-ba0e6ebae207"
      },
      "source": [
        "from sklearn.cluster import KMeans\n",
        "wcss = []\n",
        "for i in range(1, 11):\n",
        "    kmeans = KMeans(n_clusters=i,random_state=0)\n",
        "    kmeans.fit(wine_pca)\n",
        "    wcss.append(kmeans.inertia_)\n",
        "    \n",
        "plt.plot(range(1, 11), wcss)\n",
        "plt.title('Elbow Method')\n",
        "plt.xlabel('Number of clusters')\n",
        "plt.ylabel('WCSS')\n",
        "plt.show()"
      ],
      "execution_count": 88,
      "outputs": [
        {
          "output_type": "display_data",
          "data": {
            "image/png": "[encoded data removed]",
            "text/plain": [
              "<Figure size 432x288 with 1 Axes>"
            ]
          },
          "metadata": {
            "needs_background": "light"
          }
        }
      ]
    },
    {
      "cell_type": "code",
      "metadata": {
        "id": "qW4meZrfq1sz",
        "colab": {
          "base_uri": "https://localhost:8080/"
        },
        "outputId": "b27ff914-0d49-403f-a5e6-cedecd3c14c1"
      },
      "source": [
        "from sklearn.cluster import KMeans\n",
        "clusters_new = KMeans(3, random_state=42)\n",
        "clusters_new.fit(wine_pca)"
      ],
      "execution_count": 89,
      "outputs": [
        {
          "output_type": "execute_result",
          "data": {
            "text/plain": [
              "KMeans(algorithm='auto', copy_x=True, init='k-means++', max_iter=300,\n",
              "       n_clusters=3, n_init=10, n_jobs=None, precompute_distances='auto',\n",
              "       random_state=42, tol=0.0001, verbose=0)"
            ]
          },
          "metadata": {},
          "execution_count": 89
        }
      ]
    },
    {
      "cell_type": "code",
      "metadata": {
        "id": "O-rNl4Fsq1s0"
      },
      "source": [
        "KM_pca_label=clusters_new.labels_"
      ],
      "execution_count": 90,
      "outputs": []
    },
    {
      "cell_type": "code",
      "metadata": {
        "id": "MokaGZ84q1s0"
      },
      "source": [
        "wine['cluster'] = clusters_new.labels_"
      ],
      "execution_count": 91,
      "outputs": []
    },
    {
      "cell_type": "code",
      "metadata": {
        "id": "twhInzapq1s0",
        "colab": {
          "base_uri": "https://localhost:8080/"
        },
        "outputId": "398f62b5-35bd-4d01-c98f-3e3c29e19f8b"
      },
      "source": [
        "clusters_new.cluster_centers_"
      ],
      "execution_count": 92,
      "outputs": [
        {
          "output_type": "execute_result",
          "data": {
            "text/plain": [
              "array([[-2.72003575e+00, -1.12565126e+00, -2.39093241e-01],\n",
              "       [ 2.27580813e+00, -8.94517592e-01, -2.15032202e-03],\n",
              "       [-7.27201401e-02,  1.77754410e+00,  1.92644149e-01]])"
            ]
          },
          "metadata": {},
          "execution_count": 92
        }
      ]
    },
    {
      "cell_type": "code",
      "metadata": {
        "id": "GIgj9NAZq1s4",
        "colab": {
          "base_uri": "https://localhost:8080/",
          "height": 193
        },
        "outputId": "adf995ca-aa31-459e-9630-cee9a62581d0"
      },
      "source": [
        "wine.groupby('cluster').agg(['mean']).reset_index()"
      ],
      "execution_count": 93,
      "outputs": [
        {
          "output_type": "execute_result",
          "data": {
            "text/html": [
              "<div>\n",
              "<style scoped>\n",
              "    .dataframe tbody tr th:only-of-type {\n",
              "        vertical-align: middle;\n",
              "    }\n",
              "\n",
              "    .dataframe tbody tr th {\n",
              "        vertical-align: top;\n",
              "    }\n",
              "\n",
              "    .dataframe thead tr th {\n",
              "        text-align: left;\n",
              "    }\n",
              "</style>\n",
              "<table border=\"1\" class=\"dataframe\">\n",
              "  <thead>\n",
              "    <tr>\n",
              "      <th></th>\n",
              "      <th>cluster</th>\n",
              "      <th>Type</th>\n",
              "      <th>Alcohol</th>\n",
              "      <th>Malic</th>\n",
              "      <th>Ash</th>\n",
              "      <th>Alcalinity</th>\n",
              "      <th>Magnesium</th>\n",
              "      <th>Phenols</th>\n",
              "      <th>Flavanoids</th>\n",
              "      <th>Nonflavanoids</th>\n",
              "      <th>Proanthocyanins</th>\n",
              "      <th>Color</th>\n",
              "      <th>Hue</th>\n",
              "      <th>Dilution</th>\n",
              "      <th>Proline</th>\n",
              "    </tr>\n",
              "    <tr>\n",
              "      <th></th>\n",
              "      <th></th>\n",
              "      <th>mean</th>\n",
              "      <th>mean</th>\n",
              "      <th>mean</th>\n",
              "      <th>mean</th>\n",
              "      <th>mean</th>\n",
              "      <th>mean</th>\n",
              "      <th>mean</th>\n",
              "      <th>mean</th>\n",
              "      <th>mean</th>\n",
              "      <th>mean</th>\n",
              "      <th>mean</th>\n",
              "      <th>mean</th>\n",
              "      <th>mean</th>\n",
              "      <th>mean</th>\n",
              "    </tr>\n",
              "  </thead>\n",
              "  <tbody>\n",
              "    <tr>\n",
              "      <th>0</th>\n",
              "      <td>0</td>\n",
              "      <td>2.941176</td>\n",
              "      <td>13.134118</td>\n",
              "      <td>3.307255</td>\n",
              "      <td>2.417647</td>\n",
              "      <td>21.241176</td>\n",
              "      <td>98.666667</td>\n",
              "      <td>1.683922</td>\n",
              "      <td>0.818824</td>\n",
              "      <td>0.451961</td>\n",
              "      <td>1.145882</td>\n",
              "      <td>7.234706</td>\n",
              "      <td>0.691961</td>\n",
              "      <td>1.696667</td>\n",
              "      <td>619.058824</td>\n",
              "    </tr>\n",
              "    <tr>\n",
              "      <th>1</th>\n",
              "      <td>1</td>\n",
              "      <td>1.063492</td>\n",
              "      <td>13.656032</td>\n",
              "      <td>1.983175</td>\n",
              "      <td>2.460476</td>\n",
              "      <td>17.479365</td>\n",
              "      <td>107.650794</td>\n",
              "      <td>2.858254</td>\n",
              "      <td>3.015079</td>\n",
              "      <td>0.291270</td>\n",
              "      <td>1.922540</td>\n",
              "      <td>5.438413</td>\n",
              "      <td>1.065079</td>\n",
              "      <td>3.157143</td>\n",
              "      <td>1093.238095</td>\n",
              "    </tr>\n",
              "    <tr>\n",
              "      <th>2</th>\n",
              "      <td>2</td>\n",
              "      <td>2.000000</td>\n",
              "      <td>12.249062</td>\n",
              "      <td>1.910312</td>\n",
              "      <td>2.233281</td>\n",
              "      <td>20.087500</td>\n",
              "      <td>92.812500</td>\n",
              "      <td>2.227813</td>\n",
              "      <td>2.023438</td>\n",
              "      <td>0.359531</td>\n",
              "      <td>1.619063</td>\n",
              "      <td>2.949219</td>\n",
              "      <td>1.063063</td>\n",
              "      <td>2.803906</td>\n",
              "      <td>507.828125</td>\n",
              "    </tr>\n",
              "  </tbody>\n",
              "</table>\n",
              "</div>"
            ],
            "text/plain": [
              "  cluster      Type    Alcohol  ...       Hue  Dilution      Proline\n",
              "               mean       mean  ...      mean      mean         mean\n",
              "0       0  2.941176  13.134118  ...  0.691961  1.696667   619.058824\n",
              "1       1  1.063492  13.656032  ...  1.065079  3.157143  1093.238095\n",
              "2       2  2.000000  12.249062  ...  1.063063  2.803906   507.828125\n",
              "\n",
              "[3 rows x 15 columns]"
            ]
          },
          "metadata": {},
          "execution_count": 93
        }
      ]
    },
    {
      "cell_type": "code",
      "metadata": {
        "id": "gwLZwdIpq1s5",
        "colab": {
          "base_uri": "https://localhost:8080/"
        },
        "outputId": "23ec34ff-9272-47f1-8bfd-f1f9a2636421"
      },
      "source": [
        "for i in range(3):\n",
        "    print(\"cluster\", i)\n",
        "   # print(\"The Members:\",(list(airlines[airlines['cluster'] == i]['ID#'].values)))\n",
        "    print(\"Total Members:\", len(list(wine[wine['cluster'] == i]['Type'].values)))\n",
        "    print()"
      ],
      "execution_count": 94,
      "outputs": [
        {
          "output_type": "stream",
          "name": "stdout",
          "text": [
            "cluster 0\n",
            "Total Members: 51\n",
            "\n",
            "cluster 1\n",
            "Total Members: 63\n",
            "\n",
            "cluster 2\n",
            "Total Members: 64\n",
            "\n"
          ]
        }
      ]
    },
    {
      "cell_type": "markdown",
      "metadata": {
        "id": "6_xBeksEq1s6"
      },
      "source": [
        "# Now we will calculate the  silhouette score on pca clusters"
      ]
    },
    {
      "cell_type": "code",
      "metadata": {
        "id": "eRY-r1XQq1s6"
      },
      "source": [
        "from sklearn import metrics"
      ],
      "execution_count": 95,
      "outputs": []
    },
    {
      "cell_type": "code",
      "metadata": {
        "id": "__d9tylCq1s6",
        "colab": {
          "base_uri": "https://localhost:8080/"
        },
        "outputId": "33367022-0541-4610-c0b8-7e00a3bf6d4c"
      },
      "source": [
        "SH_ward_PCA=metrics.silhouette_score(wine_pca,y_hc1p)\n",
        "SH_ward_PCA"
      ],
      "execution_count": 96,
      "outputs": [
        {
          "output_type": "execute_result",
          "data": {
            "text/plain": [
              "0.4459492198062967"
            ]
          },
          "metadata": {},
          "execution_count": 96
        }
      ]
    },
    {
      "cell_type": "code",
      "metadata": {
        "id": "av7bG2aQq1s7",
        "colab": {
          "base_uri": "https://localhost:8080/"
        },
        "outputId": "15913294-3fcd-47cb-c8b6-4ce3c930ff1c"
      },
      "source": [
        "SH_average_PCA=metrics.silhouette_score(wine_pca,y_hc2p)\n",
        "SH_average_PCA"
      ],
      "execution_count": 97,
      "outputs": [
        {
          "output_type": "execute_result",
          "data": {
            "text/plain": [
              "0.4465449278023582"
            ]
          },
          "metadata": {},
          "execution_count": 97
        }
      ]
    },
    {
      "cell_type": "code",
      "metadata": {
        "id": "LM0LyxRkq1s7",
        "colab": {
          "base_uri": "https://localhost:8080/"
        },
        "outputId": "223b03c6-d341-465d-b6e9-8795deefa2a9"
      },
      "source": [
        "SH_complete_PCA=metrics.silhouette_score(wine_pca,y_hc3p)\n",
        "SH_complete_PCA"
      ],
      "execution_count": 98,
      "outputs": [
        {
          "output_type": "execute_result",
          "data": {
            "text/plain": [
              "0.35784842685673063"
            ]
          },
          "metadata": {},
          "execution_count": 98
        }
      ]
    },
    {
      "cell_type": "code",
      "metadata": {
        "id": "0gKBKj_6q1s8",
        "colab": {
          "base_uri": "https://localhost:8080/"
        },
        "outputId": "30816fe6-7263-4437-ab7a-7c87d59e7814"
      },
      "source": [
        "SH_single_PCA=metrics.silhouette_score(wine_pca,y_hc4p)\n",
        "SH_single_PCA"
      ],
      "execution_count": 99,
      "outputs": [
        {
          "output_type": "execute_result",
          "data": {
            "text/plain": [
              "0.36310673051041453"
            ]
          },
          "metadata": {},
          "execution_count": 99
        }
      ]
    },
    {
      "cell_type": "code",
      "metadata": {
        "id": "hAaHPGjgq1s8",
        "colab": {
          "base_uri": "https://localhost:8080/"
        },
        "outputId": "0b45d0b9-68a8-4331-bb06-83cf5a0cd81d"
      },
      "source": [
        "SH_kmeans_PCA=metrics.silhouette_score(wine_pca,KM_pca_label)\n",
        "SH_kmeans_PCA"
      ],
      "execution_count": 100,
      "outputs": [
        {
          "output_type": "execute_result",
          "data": {
            "text/plain": [
              "0.45323512156839485"
            ]
          },
          "metadata": {},
          "execution_count": 100
        }
      ]
    },
    {
      "cell_type": "code",
      "metadata": {
        "id": "uUEGGPzJq1s9",
        "colab": {
          "base_uri": "https://localhost:8080/"
        },
        "outputId": "3942d9d2-1f20-4648-ce7a-a8ba025ce02f"
      },
      "source": [
        "##Silhouette_score for before using pca data\n",
        "SH_average,SH_Ward,SH_Complete,SH_Single,SH_Kmeans"
      ],
      "execution_count": 101,
      "outputs": [
        {
          "output_type": "execute_result",
          "data": {
            "text/plain": [
              "(0.22945756295901437,\n",
              " 0.19382526203175696,\n",
              " 0.2774439826952265,\n",
              " 0.2224506072765093,\n",
              " 0.2848589191898987)"
            ]
          },
          "metadata": {},
          "execution_count": 101
        }
      ]
    },
    {
      "cell_type": "code",
      "metadata": {
        "id": "HX1-BFiNq1s9",
        "colab": {
          "base_uri": "https://localhost:8080/"
        },
        "outputId": "488131a1-000e-48c9-c88c-fd112697eaaf"
      },
      "source": [
        "##Silhouette_score for after using pca data\n",
        "SH_ward_PCA,SH_average_PCA,SH_complete_PCA,SH_single_PCA,SH_kmeans_PCA"
      ],
      "execution_count": 102,
      "outputs": [
        {
          "output_type": "execute_result",
          "data": {
            "text/plain": [
              "(0.4459492198062967,\n",
              " 0.4465449278023582,\n",
              " 0.35784842685673063,\n",
              " 0.36310673051041453,\n",
              " 0.45323512156839485)"
            ]
          },
          "metadata": {},
          "execution_count": 102
        }
      ]
    },
    {
      "cell_type": "markdown",
      "metadata": {
        "id": "aunlfE1nq1s-"
      },
      "source": [
        "Conclusion:- I have analyzed that before performing PCA the cluster result is similar to after performing PCA but we gain double silhohuette score after applying PCA that means the complexity or overlaping of data is decreased after performing PCA.\n",
        "And from clustring point of view for the both the case (before PCA and after PCA) 3 clusters are good which we got from centroid linkage and kmeans clsutering."
      ]
    }
  ]
}